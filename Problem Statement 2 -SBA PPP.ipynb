{
 "cells": [
  {
   "cell_type": "code",
   "execution_count": 1,
   "metadata": {},
   "outputs": [],
   "source": [
    "#importing libraries\n",
    "import pandas as pd \n",
    "import numpy as np\n",
    "import seaborn as sns\n",
    "import matplotlib.pyplot as plt\n",
    "import warnings\n",
    "warnings.filterwarnings('ignore')"
   ]
  },
  {
   "cell_type": "code",
   "execution_count": 196,
   "metadata": {},
   "outputs": [],
   "source": [
    "#importing datasets for 20 different states:\n",
    "df=pd.read_csv(\"PPP Data 150k plus 080820.csv\")\n",
    "df1=pd.read_csv(\"PPP Data up to 150k 080820 WA.csv\")\n",
    "df2=pd.read_csv(\"PPP Data up to 150k 080820 VA.csv\")\n",
    "df3=pd.read_csv(\"PPP Data up to 150k 080820 unstated.csv\")\n",
    "df4=pd.read_csv(\"PPP Data up to 150k 080820 SC.csv\")\n",
    "df5=pd.read_csv(\"PPP Data up to 150k 080820 NY.csv\")\n",
    "df6=pd.read_csv(\"PPP Data up to 150k 080820 NM.csv\")\n",
    "df7=pd.read_csv(\"PPP Data up to 150k 080820 NJ.csv\")\n",
    "df8=pd.read_csv(\"PPP Data up to 150k 080820 NV.csv\")\n",
    "df9=pd.read_csv(\"PPP Data up to 150k 080820 MT.csv\")\n",
    "df10=pd.read_csv(\"PPP Data up to 150k 080820 IN.csv\")\n",
    "df11=pd.read_csv(\"PPP Data up to 150k 080820 GU.csv\")\n",
    "df12=pd.read_csv(\"PPP Data up to 150k 080820 GA.csv\")\n",
    "df13=pd.read_csv(\"PPP Data up to 150k 080820 FL.csv\")\n",
    "df14=pd.read_csv(\"PPP Data up to 150k 080820 CA.csv\")\n",
    "df15=pd.read_csv(\"PPP Data up to 150k 080820 AR.csv\")\n",
    "df16=pd.read_csv(\"PPP Data up to 150k 080820 AK.csv\")\n",
    "df17=pd.read_csv(\"PPP Data up to 150k 080820 AZ.csv\")\n",
    "df18=pd.read_csv(\"PPP Data up to 150k 080820 AL.csv\")\n",
    "df19=pd.read_csv(\"PPP Data up to 150k 080820 TX.csv\")\n",
    "df20=pd.read_csv(\"PPP Data up to 150k 080820 UT.csv\")"
   ]
  },
  {
   "cell_type": "code",
   "execution_count": 3,
   "metadata": {},
   "outputs": [
    {
     "data": {
      "text/html": [
       "<div>\n",
       "<style scoped>\n",
       "    .dataframe tbody tr th:only-of-type {\n",
       "        vertical-align: middle;\n",
       "    }\n",
       "\n",
       "    .dataframe tbody tr th {\n",
       "        vertical-align: top;\n",
       "    }\n",
       "\n",
       "    .dataframe thead th {\n",
       "        text-align: right;\n",
       "    }\n",
       "</style>\n",
       "<table border=\"1\" class=\"dataframe\">\n",
       "  <thead>\n",
       "    <tr style=\"text-align: right;\">\n",
       "      <th></th>\n",
       "      <th>LoanRange</th>\n",
       "      <th>BusinessName</th>\n",
       "      <th>Address</th>\n",
       "      <th>City</th>\n",
       "      <th>State</th>\n",
       "      <th>Zip</th>\n",
       "      <th>NAICSCode</th>\n",
       "      <th>BusinessType</th>\n",
       "      <th>RaceEthnicity</th>\n",
       "      <th>Gender</th>\n",
       "      <th>Veteran</th>\n",
       "      <th>NonProfit</th>\n",
       "      <th>JobsReported</th>\n",
       "      <th>DateApproved</th>\n",
       "      <th>Lender</th>\n",
       "      <th>CD</th>\n",
       "    </tr>\n",
       "  </thead>\n",
       "  <tbody>\n",
       "    <tr>\n",
       "      <td>0</td>\n",
       "      <td>d $350,000-1 million</td>\n",
       "      <td>AERO BOX LLC</td>\n",
       "      <td>NaN</td>\n",
       "      <td>NaN</td>\n",
       "      <td>NaN</td>\n",
       "      <td>NaN</td>\n",
       "      <td>484210.0</td>\n",
       "      <td>NaN</td>\n",
       "      <td>Unanswered</td>\n",
       "      <td>Unanswered</td>\n",
       "      <td>Unanswered</td>\n",
       "      <td>NaN</td>\n",
       "      <td>NaN</td>\n",
       "      <td>05/03/2020</td>\n",
       "      <td>The Huntington National Bank</td>\n",
       "      <td>NaN</td>\n",
       "    </tr>\n",
       "    <tr>\n",
       "      <td>1</td>\n",
       "      <td>d $350,000-1 million</td>\n",
       "      <td>BOYER CHILDREN'S CLINIC</td>\n",
       "      <td>1850 BOYER AVE E</td>\n",
       "      <td>SEATTLE</td>\n",
       "      <td>NaN</td>\n",
       "      <td>98112.0</td>\n",
       "      <td>NaN</td>\n",
       "      <td>Non-Profit Organization</td>\n",
       "      <td>Unanswered</td>\n",
       "      <td>Unanswered</td>\n",
       "      <td>Unanswered</td>\n",
       "      <td>Y</td>\n",
       "      <td>75.0</td>\n",
       "      <td>05/03/2020</td>\n",
       "      <td>Bank of America, National Association</td>\n",
       "      <td>WA-07</td>\n",
       "    </tr>\n",
       "    <tr>\n",
       "      <td>2</td>\n",
       "      <td>d $350,000-1 million</td>\n",
       "      <td>KIRTLEY CONSTRUCTION INC</td>\n",
       "      <td>1661 MARTIN RANCH RD</td>\n",
       "      <td>SAN BERNARDINO</td>\n",
       "      <td>NaN</td>\n",
       "      <td>92407.0</td>\n",
       "      <td>236115.0</td>\n",
       "      <td>Corporation</td>\n",
       "      <td>Unanswered</td>\n",
       "      <td>Unanswered</td>\n",
       "      <td>Unanswered</td>\n",
       "      <td>NaN</td>\n",
       "      <td>21.0</td>\n",
       "      <td>05/03/2020</td>\n",
       "      <td>Bank of America, National Association</td>\n",
       "      <td>CA-31</td>\n",
       "    </tr>\n",
       "    <tr>\n",
       "      <td>3</td>\n",
       "      <td>d $350,000-1 million</td>\n",
       "      <td>PLEASANT PLACES, INC.</td>\n",
       "      <td>7684 Southrail Road</td>\n",
       "      <td>North Charleston</td>\n",
       "      <td>NaN</td>\n",
       "      <td>29420.0</td>\n",
       "      <td>561730.0</td>\n",
       "      <td>Sole Proprietorship</td>\n",
       "      <td>Unanswered</td>\n",
       "      <td>Male Owned</td>\n",
       "      <td>Non-Veteran</td>\n",
       "      <td>NaN</td>\n",
       "      <td>73.0</td>\n",
       "      <td>05/03/2020</td>\n",
       "      <td>Synovus Bank</td>\n",
       "      <td>SC-01</td>\n",
       "    </tr>\n",
       "    <tr>\n",
       "      <td>4</td>\n",
       "      <td>d $350,000-1 million</td>\n",
       "      <td>SUMTER COATINGS, INC.</td>\n",
       "      <td>2410 Highway 15 South</td>\n",
       "      <td>Sumter</td>\n",
       "      <td>NaN</td>\n",
       "      <td>29150.0</td>\n",
       "      <td>325510.0</td>\n",
       "      <td>Corporation</td>\n",
       "      <td>Unanswered</td>\n",
       "      <td>Unanswered</td>\n",
       "      <td>Unanswered</td>\n",
       "      <td>NaN</td>\n",
       "      <td>62.0</td>\n",
       "      <td>05/03/2020</td>\n",
       "      <td>Synovus Bank</td>\n",
       "      <td>SC-05</td>\n",
       "    </tr>\n",
       "  </tbody>\n",
       "</table>\n",
       "</div>"
      ],
      "text/plain": [
       "              LoanRange              BusinessName                Address  \\\n",
       "0  d $350,000-1 million              AERO BOX LLC                    NaN   \n",
       "1  d $350,000-1 million   BOYER CHILDREN'S CLINIC       1850 BOYER AVE E   \n",
       "2  d $350,000-1 million  KIRTLEY CONSTRUCTION INC   1661 MARTIN RANCH RD   \n",
       "3  d $350,000-1 million     PLEASANT PLACES, INC.    7684 Southrail Road   \n",
       "4  d $350,000-1 million     SUMTER COATINGS, INC.  2410 Highway 15 South   \n",
       "\n",
       "               City State      Zip  NAICSCode             BusinessType  \\\n",
       "0               NaN   NaN      NaN   484210.0                      NaN   \n",
       "1           SEATTLE   NaN  98112.0        NaN  Non-Profit Organization   \n",
       "2    SAN BERNARDINO   NaN  92407.0   236115.0              Corporation   \n",
       "3  North Charleston   NaN  29420.0   561730.0      Sole Proprietorship   \n",
       "4            Sumter   NaN  29150.0   325510.0              Corporation   \n",
       "\n",
       "  RaceEthnicity      Gender      Veteran NonProfit  JobsReported DateApproved  \\\n",
       "0    Unanswered  Unanswered   Unanswered       NaN           NaN   05/03/2020   \n",
       "1    Unanswered  Unanswered   Unanswered         Y          75.0   05/03/2020   \n",
       "2    Unanswered  Unanswered   Unanswered       NaN          21.0   05/03/2020   \n",
       "3    Unanswered  Male Owned  Non-Veteran       NaN          73.0   05/03/2020   \n",
       "4    Unanswered  Unanswered   Unanswered       NaN          62.0   05/03/2020   \n",
       "\n",
       "                                  Lender     CD  \n",
       "0           The Huntington National Bank    NaN  \n",
       "1  Bank of America, National Association  WA-07  \n",
       "2  Bank of America, National Association  CA-31  \n",
       "3                           Synovus Bank  SC-01  \n",
       "4                           Synovus Bank  SC-05  "
      ]
     },
     "execution_count": 3,
     "metadata": {},
     "output_type": "execute_result"
    }
   ],
   "source": [
    "#exploring PPP Data 150k plus  dataset :\n",
    "df.head()"
   ]
  },
  {
   "cell_type": "code",
   "execution_count": 4,
   "metadata": {},
   "outputs": [
    {
     "data": {
      "text/html": [
       "<div>\n",
       "<style scoped>\n",
       "    .dataframe tbody tr th:only-of-type {\n",
       "        vertical-align: middle;\n",
       "    }\n",
       "\n",
       "    .dataframe tbody tr th {\n",
       "        vertical-align: top;\n",
       "    }\n",
       "\n",
       "    .dataframe thead th {\n",
       "        text-align: right;\n",
       "    }\n",
       "</style>\n",
       "<table border=\"1\" class=\"dataframe\">\n",
       "  <thead>\n",
       "    <tr style=\"text-align: right;\">\n",
       "      <th></th>\n",
       "      <th>LoanRange</th>\n",
       "      <th>BusinessName</th>\n",
       "      <th>Address</th>\n",
       "      <th>City</th>\n",
       "      <th>State</th>\n",
       "      <th>Zip</th>\n",
       "      <th>NAICSCode</th>\n",
       "      <th>BusinessType</th>\n",
       "      <th>RaceEthnicity</th>\n",
       "      <th>Gender</th>\n",
       "      <th>Veteran</th>\n",
       "      <th>NonProfit</th>\n",
       "      <th>JobsReported</th>\n",
       "      <th>DateApproved</th>\n",
       "      <th>Lender</th>\n",
       "      <th>CD</th>\n",
       "    </tr>\n",
       "  </thead>\n",
       "  <tbody>\n",
       "    <tr>\n",
       "      <td>662510</td>\n",
       "      <td>e $150,000-350,000</td>\n",
       "      <td>YMCA OF NATRONA COUNTY</td>\n",
       "      <td>1161 Casper Mountain Road</td>\n",
       "      <td>CASPER</td>\n",
       "      <td>WY</td>\n",
       "      <td>82601.0</td>\n",
       "      <td>624190.0</td>\n",
       "      <td>Non-Profit Organization</td>\n",
       "      <td>Unanswered</td>\n",
       "      <td>Unanswered</td>\n",
       "      <td>Unanswered</td>\n",
       "      <td>Y</td>\n",
       "      <td>70.0</td>\n",
       "      <td>04/16/2020</td>\n",
       "      <td>First Interstate Bank</td>\n",
       "      <td>WY-00</td>\n",
       "    </tr>\n",
       "    <tr>\n",
       "      <td>662511</td>\n",
       "      <td>e $150,000-350,000</td>\n",
       "      <td>YOR RESTAURANT GROUP</td>\n",
       "      <td>72 South Glenwood Street</td>\n",
       "      <td>Jackson</td>\n",
       "      <td>WY</td>\n",
       "      <td>83001.0</td>\n",
       "      <td>722511.0</td>\n",
       "      <td>Subchapter S Corporation</td>\n",
       "      <td>Unanswered</td>\n",
       "      <td>Male Owned</td>\n",
       "      <td>Unanswered</td>\n",
       "      <td>NaN</td>\n",
       "      <td>15.0</td>\n",
       "      <td>05/19/2020</td>\n",
       "      <td>Celtic Bank Corporation</td>\n",
       "      <td>WY-00</td>\n",
       "    </tr>\n",
       "    <tr>\n",
       "      <td>662512</td>\n",
       "      <td>e $150,000-350,000</td>\n",
       "      <td>YOUTH CRISIS CENTER, INC.</td>\n",
       "      <td>1656 E 12th Street</td>\n",
       "      <td>CASPER</td>\n",
       "      <td>WY</td>\n",
       "      <td>82601.0</td>\n",
       "      <td>624190.0</td>\n",
       "      <td>Non-Profit Organization</td>\n",
       "      <td>Unanswered</td>\n",
       "      <td>Unanswered</td>\n",
       "      <td>Unanswered</td>\n",
       "      <td>Y</td>\n",
       "      <td>19.0</td>\n",
       "      <td>04/10/2020</td>\n",
       "      <td>First Interstate Bank</td>\n",
       "      <td>WY-00</td>\n",
       "    </tr>\n",
       "    <tr>\n",
       "      <td>662513</td>\n",
       "      <td>e $150,000-350,000</td>\n",
       "      <td>ZOCO UNLIMITED, INC.</td>\n",
       "      <td>PO BOX 305 3 CR 700</td>\n",
       "      <td>BAGGS</td>\n",
       "      <td>WY</td>\n",
       "      <td>82321.0</td>\n",
       "      <td>213112.0</td>\n",
       "      <td>Subchapter S Corporation</td>\n",
       "      <td>Unanswered</td>\n",
       "      <td>Male Owned</td>\n",
       "      <td>Unanswered</td>\n",
       "      <td>NaN</td>\n",
       "      <td>19.0</td>\n",
       "      <td>04/27/2020</td>\n",
       "      <td>Bank of Commerce</td>\n",
       "      <td>WY-00</td>\n",
       "    </tr>\n",
       "    <tr>\n",
       "      <td>662514</td>\n",
       "      <td>e $150,000-350,000</td>\n",
       "      <td>ZOOK MANAGEMENT LLC</td>\n",
       "      <td>1560 Crystal Creek Road</td>\n",
       "      <td>LOVELL</td>\n",
       "      <td>WY</td>\n",
       "      <td>82431.0</td>\n",
       "      <td>541611.0</td>\n",
       "      <td>Limited  Liability Company(LLC)</td>\n",
       "      <td>White</td>\n",
       "      <td>Male Owned</td>\n",
       "      <td>Non-Veteran</td>\n",
       "      <td>NaN</td>\n",
       "      <td>42.0</td>\n",
       "      <td>04/10/2020</td>\n",
       "      <td>Univest Bank and Trust Co.</td>\n",
       "      <td>WY-00</td>\n",
       "    </tr>\n",
       "  </tbody>\n",
       "</table>\n",
       "</div>"
      ],
      "text/plain": [
       "                 LoanRange               BusinessName  \\\n",
       "662510  e $150,000-350,000     YMCA OF NATRONA COUNTY   \n",
       "662511  e $150,000-350,000       YOR RESTAURANT GROUP   \n",
       "662512  e $150,000-350,000  YOUTH CRISIS CENTER, INC.   \n",
       "662513  e $150,000-350,000       ZOCO UNLIMITED, INC.   \n",
       "662514  e $150,000-350,000        ZOOK MANAGEMENT LLC   \n",
       "\n",
       "                          Address     City State      Zip  NAICSCode  \\\n",
       "662510  1161 Casper Mountain Road   CASPER    WY  82601.0   624190.0   \n",
       "662511   72 South Glenwood Street  Jackson    WY  83001.0   722511.0   \n",
       "662512         1656 E 12th Street   CASPER    WY  82601.0   624190.0   \n",
       "662513        PO BOX 305 3 CR 700    BAGGS    WY  82321.0   213112.0   \n",
       "662514    1560 Crystal Creek Road   LOVELL    WY  82431.0   541611.0   \n",
       "\n",
       "                           BusinessType RaceEthnicity      Gender  \\\n",
       "662510          Non-Profit Organization    Unanswered  Unanswered   \n",
       "662511         Subchapter S Corporation    Unanswered  Male Owned   \n",
       "662512          Non-Profit Organization    Unanswered  Unanswered   \n",
       "662513         Subchapter S Corporation    Unanswered  Male Owned   \n",
       "662514  Limited  Liability Company(LLC)         White  Male Owned   \n",
       "\n",
       "            Veteran NonProfit  JobsReported DateApproved  \\\n",
       "662510   Unanswered         Y          70.0   04/16/2020   \n",
       "662511   Unanswered       NaN          15.0   05/19/2020   \n",
       "662512   Unanswered         Y          19.0   04/10/2020   \n",
       "662513   Unanswered       NaN          19.0   04/27/2020   \n",
       "662514  Non-Veteran       NaN          42.0   04/10/2020   \n",
       "\n",
       "                            Lender     CD  \n",
       "662510       First Interstate Bank  WY-00  \n",
       "662511     Celtic Bank Corporation  WY-00  \n",
       "662512       First Interstate Bank  WY-00  \n",
       "662513            Bank of Commerce  WY-00  \n",
       "662514  Univest Bank and Trust Co.  WY-00  "
      ]
     },
     "execution_count": 4,
     "metadata": {},
     "output_type": "execute_result"
    }
   ],
   "source": [
    "df.tail()"
   ]
  },
  {
   "cell_type": "code",
   "execution_count": 5,
   "metadata": {},
   "outputs": [
    {
     "name": "stdout",
     "output_type": "stream",
     "text": [
      "<class 'pandas.core.frame.DataFrame'>\n",
      "RangeIndex: 662515 entries, 0 to 662514\n",
      "Data columns (total 16 columns):\n",
      "LoanRange        662515 non-null object\n",
      "BusinessName     662510 non-null object\n",
      "Address          662498 non-null object\n",
      "City             662500 non-null object\n",
      "State            662499 non-null object\n",
      "Zip              662499 non-null float64\n",
      "NAICSCode        655800 non-null float64\n",
      "BusinessType     661110 non-null object\n",
      "RaceEthnicity    662515 non-null object\n",
      "Gender           662515 non-null object\n",
      "Veteran          662515 non-null object\n",
      "NonProfit        41993 non-null object\n",
      "JobsReported     622635 non-null float64\n",
      "DateApproved     662515 non-null object\n",
      "Lender           662515 non-null object\n",
      "CD               662292 non-null object\n",
      "dtypes: float64(3), object(13)\n",
      "memory usage: 80.9+ MB\n"
     ]
    }
   ],
   "source": [
    "df.info()"
   ]
  },
  {
   "cell_type": "code",
   "execution_count": 6,
   "metadata": {},
   "outputs": [
    {
     "data": {
      "text/html": [
       "<div>\n",
       "<style scoped>\n",
       "    .dataframe tbody tr th:only-of-type {\n",
       "        vertical-align: middle;\n",
       "    }\n",
       "\n",
       "    .dataframe tbody tr th {\n",
       "        vertical-align: top;\n",
       "    }\n",
       "\n",
       "    .dataframe thead th {\n",
       "        text-align: right;\n",
       "    }\n",
       "</style>\n",
       "<table border=\"1\" class=\"dataframe\">\n",
       "  <thead>\n",
       "    <tr style=\"text-align: right;\">\n",
       "      <th></th>\n",
       "      <th>Zip</th>\n",
       "      <th>NAICSCode</th>\n",
       "      <th>JobsReported</th>\n",
       "    </tr>\n",
       "  </thead>\n",
       "  <tbody>\n",
       "    <tr>\n",
       "      <td>count</td>\n",
       "      <td>662499.000000</td>\n",
       "      <td>655800.000000</td>\n",
       "      <td>622635.000000</td>\n",
       "    </tr>\n",
       "    <tr>\n",
       "      <td>mean</td>\n",
       "      <td>51334.381745</td>\n",
       "      <td>504320.424614</td>\n",
       "      <td>50.324980</td>\n",
       "    </tr>\n",
       "    <tr>\n",
       "      <td>std</td>\n",
       "      <td>30763.300635</td>\n",
       "      <td>177773.534782</td>\n",
       "      <td>69.585824</td>\n",
       "    </tr>\n",
       "    <tr>\n",
       "      <td>min</td>\n",
       "      <td>256.000000</td>\n",
       "      <td>111110.000000</td>\n",
       "      <td>0.000000</td>\n",
       "    </tr>\n",
       "    <tr>\n",
       "      <td>25%</td>\n",
       "      <td>23606.000000</td>\n",
       "      <td>337110.000000</td>\n",
       "      <td>16.000000</td>\n",
       "    </tr>\n",
       "    <tr>\n",
       "      <td>50%</td>\n",
       "      <td>48726.000000</td>\n",
       "      <td>541110.000000</td>\n",
       "      <td>28.000000</td>\n",
       "    </tr>\n",
       "    <tr>\n",
       "      <td>75%</td>\n",
       "      <td>79701.000000</td>\n",
       "      <td>621320.000000</td>\n",
       "      <td>54.000000</td>\n",
       "    </tr>\n",
       "    <tr>\n",
       "      <td>max</td>\n",
       "      <td>99929.000000</td>\n",
       "      <td>999990.000000</td>\n",
       "      <td>500.000000</td>\n",
       "    </tr>\n",
       "  </tbody>\n",
       "</table>\n",
       "</div>"
      ],
      "text/plain": [
       "                 Zip      NAICSCode   JobsReported\n",
       "count  662499.000000  655800.000000  622635.000000\n",
       "mean    51334.381745  504320.424614      50.324980\n",
       "std     30763.300635  177773.534782      69.585824\n",
       "min       256.000000  111110.000000       0.000000\n",
       "25%     23606.000000  337110.000000      16.000000\n",
       "50%     48726.000000  541110.000000      28.000000\n",
       "75%     79701.000000  621320.000000      54.000000\n",
       "max     99929.000000  999990.000000     500.000000"
      ]
     },
     "execution_count": 6,
     "metadata": {},
     "output_type": "execute_result"
    }
   ],
   "source": [
    "df.describe()"
   ]
  },
  {
   "cell_type": "code",
   "execution_count": 7,
   "metadata": {},
   "outputs": [
    {
     "data": {
      "text/plain": [
       "(662515, 16)"
      ]
     },
     "execution_count": 7,
     "metadata": {},
     "output_type": "execute_result"
    }
   ],
   "source": [
    "#checking shape\n",
    "df.shape"
   ]
  },
  {
   "cell_type": "code",
   "execution_count": 8,
   "metadata": {},
   "outputs": [
    {
     "name": "stdout",
     "output_type": "stream",
     "text": [
      "LoanRange             0\n",
      "BusinessName          5\n",
      "Address              17\n",
      "City                 15\n",
      "State                16\n",
      "Zip                  16\n",
      "NAICSCode          6715\n",
      "BusinessType       1405\n",
      "RaceEthnicity         0\n",
      "Gender                0\n",
      "Veteran               0\n",
      "NonProfit        620522\n",
      "JobsReported      39880\n",
      "DateApproved          0\n",
      "Lender                0\n",
      "CD                  223\n",
      "dtype: int64\n",
      "AxesSubplot(0.125,0.125;0.62x0.755)\n"
     ]
    },
    {
     "data": {
      "image/png": "[encoded data removed]",
      "text/plain": [
       "<Figure size 432x288 with 2 Axes>"
      ]
     },
     "metadata": {
      "needs_background": "light"
     },
     "output_type": "display_data"
    }
   ],
   "source": [
    "# checking null values\n",
    "print(df.isnull().sum())\n",
    "print(sns.heatmap(df.isnull()))"
   ]
  },
  {
   "cell_type": "markdown",
   "metadata": {},
   "source": [
    "huge number of null values in Nonprofit , Jobs reported and NAICSCODE Column"
   ]
  },
  {
   "cell_type": "code",
   "execution_count": 9,
   "metadata": {},
   "outputs": [
    {
     "name": "stdout",
     "output_type": "stream",
     "text": [
      "                   Zip  NAICSCode  JobsReported\n",
      "Zip           1.000000  -0.030999      0.002147\n",
      "NAICSCode    -0.030999   1.000000      0.072856\n",
      "JobsReported  0.002147   0.072856      1.000000\n",
      "AxesSubplot(0.125,0.125;0.62x0.755)\n"
     ]
    },
    {
     "data": {
      "image/png": "[encoded data removed]",
      "text/plain": [
       "<Figure size 432x288 with 2 Axes>"
      ]
     },
     "metadata": {
      "needs_background": "light"
     },
     "output_type": "display_data"
    }
   ],
   "source": [
    "## checking correlation in dataset\n",
    "print(df.corr())\n",
    "print(sns.heatmap(df.corr()))"
   ]
  },
  {
   "cell_type": "code",
   "execution_count": null,
   "metadata": {},
   "outputs": [],
   "source": [
    "#let us analyze some details about a particular state"
   ]
  },
  {
   "cell_type": "code",
   "execution_count": 10,
   "metadata": {},
   "outputs": [
    {
     "data": {
      "text/html": [
       "<div>\n",
       "<style scoped>\n",
       "    .dataframe tbody tr th:only-of-type {\n",
       "        vertical-align: middle;\n",
       "    }\n",
       "\n",
       "    .dataframe tbody tr th {\n",
       "        vertical-align: top;\n",
       "    }\n",
       "\n",
       "    .dataframe thead th {\n",
       "        text-align: right;\n",
       "    }\n",
       "</style>\n",
       "<table border=\"1\" class=\"dataframe\">\n",
       "  <thead>\n",
       "    <tr style=\"text-align: right;\">\n",
       "      <th></th>\n",
       "      <th>LoanAmount</th>\n",
       "      <th>City</th>\n",
       "      <th>State</th>\n",
       "      <th>Zip</th>\n",
       "      <th>NAICSCode</th>\n",
       "      <th>BusinessType</th>\n",
       "      <th>RaceEthnicity</th>\n",
       "      <th>Gender</th>\n",
       "      <th>Veteran</th>\n",
       "      <th>NonProfit</th>\n",
       "      <th>JobsReported</th>\n",
       "      <th>DateApproved</th>\n",
       "      <th>Lender</th>\n",
       "      <th>CD</th>\n",
       "    </tr>\n",
       "  </thead>\n",
       "  <tbody>\n",
       "    <tr>\n",
       "      <td>0</td>\n",
       "      <td>149992.0</td>\n",
       "      <td>BELLINGHAM</td>\n",
       "      <td>WA</td>\n",
       "      <td>98225.0</td>\n",
       "      <td>NaN</td>\n",
       "      <td>Subchapter S Corporation</td>\n",
       "      <td>Unanswered</td>\n",
       "      <td>Unanswered</td>\n",
       "      <td>Unanswered</td>\n",
       "      <td>NaN</td>\n",
       "      <td>11.0</td>\n",
       "      <td>05/01/2020</td>\n",
       "      <td>JPMorgan Chase Bank, National Association</td>\n",
       "      <td>WA-02</td>\n",
       "    </tr>\n",
       "    <tr>\n",
       "      <td>1</td>\n",
       "      <td>149980.0</td>\n",
       "      <td>SPOKANE VALLEY</td>\n",
       "      <td>WA</td>\n",
       "      <td>99216.0</td>\n",
       "      <td>621210.0</td>\n",
       "      <td>Limited  Liability Company(LLC)</td>\n",
       "      <td>Unanswered</td>\n",
       "      <td>Unanswered</td>\n",
       "      <td>Unanswered</td>\n",
       "      <td>NaN</td>\n",
       "      <td>12.0</td>\n",
       "      <td>04/29/2020</td>\n",
       "      <td>Banner Bank</td>\n",
       "      <td>WA-05</td>\n",
       "    </tr>\n",
       "    <tr>\n",
       "      <td>2</td>\n",
       "      <td>149975.0</td>\n",
       "      <td>Kirkland</td>\n",
       "      <td>WA</td>\n",
       "      <td>98033.0</td>\n",
       "      <td>339999.0</td>\n",
       "      <td>Subchapter S Corporation</td>\n",
       "      <td>Unanswered</td>\n",
       "      <td>Unanswered</td>\n",
       "      <td>Unanswered</td>\n",
       "      <td>NaN</td>\n",
       "      <td>6.0</td>\n",
       "      <td>04/16/2020</td>\n",
       "      <td>Seattle Bank</td>\n",
       "      <td>WA-01</td>\n",
       "    </tr>\n",
       "    <tr>\n",
       "      <td>3</td>\n",
       "      <td>149950.0</td>\n",
       "      <td>Port Orchard</td>\n",
       "      <td>WA</td>\n",
       "      <td>98367.0</td>\n",
       "      <td>238210.0</td>\n",
       "      <td>Limited  Liability Company(LLC)</td>\n",
       "      <td>Unanswered</td>\n",
       "      <td>Unanswered</td>\n",
       "      <td>Unanswered</td>\n",
       "      <td>NaN</td>\n",
       "      <td>10.0</td>\n",
       "      <td>06/13/2020</td>\n",
       "      <td>Kabbage, Inc.</td>\n",
       "      <td>WA-06</td>\n",
       "    </tr>\n",
       "    <tr>\n",
       "      <td>4</td>\n",
       "      <td>149922.0</td>\n",
       "      <td>BURLINGTON</td>\n",
       "      <td>WA</td>\n",
       "      <td>98233.0</td>\n",
       "      <td>999990.0</td>\n",
       "      <td>Subchapter S Corporation</td>\n",
       "      <td>Unanswered</td>\n",
       "      <td>Unanswered</td>\n",
       "      <td>Unanswered</td>\n",
       "      <td>NaN</td>\n",
       "      <td>12.0</td>\n",
       "      <td>05/03/2020</td>\n",
       "      <td>Cross River Bank</td>\n",
       "      <td>WA-02</td>\n",
       "    </tr>\n",
       "  </tbody>\n",
       "</table>\n",
       "</div>"
      ],
      "text/plain": [
       "   LoanAmount            City State      Zip  NAICSCode  \\\n",
       "0    149992.0      BELLINGHAM    WA  98225.0        NaN   \n",
       "1    149980.0  SPOKANE VALLEY    WA  99216.0   621210.0   \n",
       "2    149975.0        Kirkland    WA  98033.0   339999.0   \n",
       "3    149950.0    Port Orchard    WA  98367.0   238210.0   \n",
       "4    149922.0      BURLINGTON    WA  98233.0   999990.0   \n",
       "\n",
       "                      BusinessType RaceEthnicity      Gender     Veteran  \\\n",
       "0         Subchapter S Corporation    Unanswered  Unanswered  Unanswered   \n",
       "1  Limited  Liability Company(LLC)    Unanswered  Unanswered  Unanswered   \n",
       "2         Subchapter S Corporation    Unanswered  Unanswered  Unanswered   \n",
       "3  Limited  Liability Company(LLC)    Unanswered  Unanswered  Unanswered   \n",
       "4         Subchapter S Corporation    Unanswered  Unanswered  Unanswered   \n",
       "\n",
       "  NonProfit  JobsReported DateApproved  \\\n",
       "0       NaN          11.0   05/01/2020   \n",
       "1       NaN          12.0   04/29/2020   \n",
       "2       NaN           6.0   04/16/2020   \n",
       "3       NaN          10.0   06/13/2020   \n",
       "4       NaN          12.0   05/03/2020   \n",
       "\n",
       "                                      Lender     CD  \n",
       "0  JPMorgan Chase Bank, National Association  WA-02  \n",
       "1                                Banner Bank  WA-05  \n",
       "2                               Seattle Bank  WA-01  \n",
       "3                              Kabbage, Inc.  WA-06  \n",
       "4                           Cross River Bank  WA-02  "
      ]
     },
     "execution_count": 10,
     "metadata": {},
     "output_type": "execute_result"
    }
   ],
   "source": [
    "# washington\n",
    "df1.head()"
   ]
  },
  {
   "cell_type": "code",
   "execution_count": 11,
   "metadata": {},
   "outputs": [
    {
     "data": {
      "text/html": [
       "<div>\n",
       "<style scoped>\n",
       "    .dataframe tbody tr th:only-of-type {\n",
       "        vertical-align: middle;\n",
       "    }\n",
       "\n",
       "    .dataframe tbody tr th {\n",
       "        vertical-align: top;\n",
       "    }\n",
       "\n",
       "    .dataframe thead th {\n",
       "        text-align: right;\n",
       "    }\n",
       "</style>\n",
       "<table border=\"1\" class=\"dataframe\">\n",
       "  <thead>\n",
       "    <tr style=\"text-align: right;\">\n",
       "      <th></th>\n",
       "      <th>LoanAmount</th>\n",
       "      <th>Zip</th>\n",
       "      <th>NAICSCode</th>\n",
       "      <th>JobsReported</th>\n",
       "    </tr>\n",
       "  </thead>\n",
       "  <tbody>\n",
       "    <tr>\n",
       "      <td>count</td>\n",
       "      <td>91695.000000</td>\n",
       "      <td>91691.000000</td>\n",
       "      <td>89496.000000</td>\n",
       "      <td>86158.000000</td>\n",
       "    </tr>\n",
       "    <tr>\n",
       "      <td>mean</td>\n",
       "      <td>35974.272709</td>\n",
       "      <td>98398.662944</td>\n",
       "      <td>541095.288594</td>\n",
       "      <td>4.191567</td>\n",
       "    </tr>\n",
       "    <tr>\n",
       "      <td>std</td>\n",
       "      <td>34289.209820</td>\n",
       "      <td>472.734132</td>\n",
       "      <td>194144.926163</td>\n",
       "      <td>9.352916</td>\n",
       "    </tr>\n",
       "    <tr>\n",
       "      <td>min</td>\n",
       "      <td>57.000000</td>\n",
       "      <td>23224.000000</td>\n",
       "      <td>111110.000000</td>\n",
       "      <td>0.000000</td>\n",
       "    </tr>\n",
       "    <tr>\n",
       "      <td>25%</td>\n",
       "      <td>10792.000000</td>\n",
       "      <td>98103.000000</td>\n",
       "      <td>446199.000000</td>\n",
       "      <td>1.000000</td>\n",
       "    </tr>\n",
       "    <tr>\n",
       "      <td>50%</td>\n",
       "      <td>21775.000000</td>\n",
       "      <td>98258.000000</td>\n",
       "      <td>541350.000000</td>\n",
       "      <td>2.000000</td>\n",
       "    </tr>\n",
       "    <tr>\n",
       "      <td>75%</td>\n",
       "      <td>50513.000000</td>\n",
       "      <td>98629.000000</td>\n",
       "      <td>624410.000000</td>\n",
       "      <td>5.000000</td>\n",
       "    </tr>\n",
       "    <tr>\n",
       "      <td>max</td>\n",
       "      <td>149992.000000</td>\n",
       "      <td>99820.000000</td>\n",
       "      <td>999990.000000</td>\n",
       "      <td>500.000000</td>\n",
       "    </tr>\n",
       "  </tbody>\n",
       "</table>\n",
       "</div>"
      ],
      "text/plain": [
       "          LoanAmount           Zip      NAICSCode  JobsReported\n",
       "count   91695.000000  91691.000000   89496.000000  86158.000000\n",
       "mean    35974.272709  98398.662944  541095.288594      4.191567\n",
       "std     34289.209820    472.734132  194144.926163      9.352916\n",
       "min        57.000000  23224.000000  111110.000000      0.000000\n",
       "25%     10792.000000  98103.000000  446199.000000      1.000000\n",
       "50%     21775.000000  98258.000000  541350.000000      2.000000\n",
       "75%     50513.000000  98629.000000  624410.000000      5.000000\n",
       "max    149992.000000  99820.000000  999990.000000    500.000000"
      ]
     },
     "execution_count": 11,
     "metadata": {},
     "output_type": "execute_result"
    }
   ],
   "source": [
    "df1.describe()"
   ]
  },
  {
   "cell_type": "code",
   "execution_count": 12,
   "metadata": {},
   "outputs": [
    {
     "name": "stdout",
     "output_type": "stream",
     "text": [
      "LoanAmount           0\n",
      "City                 4\n",
      "State                0\n",
      "Zip                  4\n",
      "NAICSCode         2199\n",
      "BusinessType        63\n",
      "RaceEthnicity        0\n",
      "Gender               0\n",
      "Veteran              0\n",
      "NonProfit        88842\n",
      "JobsReported      5537\n",
      "DateApproved         0\n",
      "Lender               0\n",
      "CD                   5\n",
      "dtype: int64\n",
      "AxesSubplot(0.125,0.125;0.62x0.755)\n"
     ]
    },
    {
     "data": {
      "image/png": "[encoded data removed]",
      "text/plain": [
       "<Figure size 432x288 with 2 Axes>"
      ]
     },
     "metadata": {
      "needs_background": "light"
     },
     "output_type": "display_data"
    }
   ],
   "source": [
    "# checking null values\n",
    "print(df1.isnull().sum())\n",
    "print(sns.heatmap(df1.isnull()))"
   ]
  },
  {
   "cell_type": "code",
   "execution_count": 13,
   "metadata": {},
   "outputs": [
    {
     "name": "stdout",
     "output_type": "stream",
     "text": [
      "              LoanAmount       Zip  NAICSCode  JobsReported\n",
      "LoanAmount      1.000000  0.014576  -0.044899      0.323966\n",
      "Zip             0.014576  1.000000  -0.083654      0.024042\n",
      "NAICSCode      -0.044899 -0.083654   1.000000      0.024238\n",
      "JobsReported    0.323966  0.024042   0.024238      1.000000\n",
      "AxesSubplot(0.125,0.125;0.62x0.755)\n"
     ]
    },
    {
     "data": {
      "image/png": "[encoded data removed]",
      "text/plain": [
       "<Figure size 432x288 with 2 Axes>"
      ]
     },
     "metadata": {
      "needs_background": "light"
     },
     "output_type": "display_data"
    }
   ],
   "source": [
    "# checking corr values\n",
    "print(df1.corr())\n",
    "print(sns.heatmap(df1.corr()))"
   ]
  },
  {
   "cell_type": "markdown",
   "metadata": {},
   "source": [
    "# merging the datasets of different states to make a large data\n"
   ]
  },
  {
   "cell_type": "code",
   "execution_count": 222,
   "metadata": {},
   "outputs": [],
   "source": [
    "sba=pd.concat([df1,df2,df3,df4,df5,df6,df7,df8,df9,df10,df11,df12,df13,df14,df15,df16,df17,df18,df19,df20])"
   ]
  },
  {
   "cell_type": "code",
   "execution_count": 223,
   "metadata": {},
   "outputs": [
    {
     "data": {
      "text/plain": [
       "(2521815, 14)"
      ]
     },
     "execution_count": 223,
     "metadata": {},
     "output_type": "execute_result"
    }
   ],
   "source": [
    "sba.shape"
   ]
  },
  {
   "cell_type": "code",
   "execution_count": 224,
   "metadata": {},
   "outputs": [
    {
     "name": "stdout",
     "output_type": "stream",
     "text": [
      "<class 'pandas.core.frame.DataFrame'>\n",
      "Int64Index: 2521815 entries, 0 to 45516\n",
      "Data columns (total 14 columns):\n",
      "LoanAmount       float64\n",
      "City             object\n",
      "State            object\n",
      "Zip              float64\n",
      "NAICSCode        float64\n",
      "BusinessType     object\n",
      "RaceEthnicity    object\n",
      "Gender           object\n",
      "Veteran          object\n",
      "NonProfit        object\n",
      "JobsReported     float64\n",
      "DateApproved     object\n",
      "Lender           object\n",
      "CD               object\n",
      "dtypes: float64(4), object(10)\n",
      "memory usage: 288.6+ MB\n"
     ]
    }
   ],
   "source": [
    "sba.info()"
   ]
  },
  {
   "cell_type": "code",
   "execution_count": 225,
   "metadata": {},
   "outputs": [
    {
     "name": "stdout",
     "output_type": "stream",
     "text": [
      "LoanAmount             0\n",
      "City                 174\n",
      "State                149\n",
      "Zip                  168\n",
      "NAICSCode          80446\n",
      "BusinessType        1729\n",
      "RaceEthnicity          0\n",
      "Gender                 0\n",
      "Veteran                0\n",
      "NonProfit        2458525\n",
      "JobsReported      160900\n",
      "DateApproved           0\n",
      "Lender                 0\n",
      "CD                   610\n",
      "dtype: int64\n",
      "AxesSubplot(0.125,0.125;0.62x0.755)\n"
     ]
    },
    {
     "data": {
      "image/png": "[encoded data removed]",
      "text/plain": [
       "<Figure size 432x288 with 2 Axes>"
      ]
     },
     "metadata": {
      "needs_background": "light"
     },
     "output_type": "display_data"
    }
   ],
   "source": [
    "# checking null values\n",
    "print(sba.isnull().sum())\n",
    "print(sns.heatmap(sba.isnull()))"
   ]
  },
  {
   "cell_type": "code",
   "execution_count": 226,
   "metadata": {},
   "outputs": [],
   "source": [
    "# large number of null value sin the NOn profit , Jobs Reported adn NAICScode"
   ]
  },
  {
   "cell_type": "code",
   "execution_count": 227,
   "metadata": {},
   "outputs": [
    {
     "name": "stdout",
     "output_type": "stream",
     "text": [
      "              LoanAmount       Zip  NAICSCode  JobsReported\n",
      "LoanAmount      1.000000  0.028249  -0.046784      0.340564\n",
      "Zip             0.028249  1.000000  -0.003349      0.023579\n",
      "NAICSCode      -0.046784 -0.003349   1.000000      0.036441\n",
      "JobsReported    0.340564  0.023579   0.036441      1.000000\n",
      "AxesSubplot(0.125,0.125;0.62x0.755)\n"
     ]
    },
    {
     "data": {
      "image/png": "[encoded data removed]",
      "text/plain": [
       "<Figure size 432x288 with 2 Axes>"
      ]
     },
     "metadata": {
      "needs_background": "light"
     },
     "output_type": "display_data"
    }
   ],
   "source": [
    "# checking corr values\n",
    "print(sba.corr())\n",
    "print(sns.heatmap(sba.corr()))"
   ]
  },
  {
   "cell_type": "code",
   "execution_count": 228,
   "metadata": {},
   "outputs": [
    {
     "data": {
      "text/html": [
       "<div>\n",
       "<style scoped>\n",
       "    .dataframe tbody tr th:only-of-type {\n",
       "        vertical-align: middle;\n",
       "    }\n",
       "\n",
       "    .dataframe tbody tr th {\n",
       "        vertical-align: top;\n",
       "    }\n",
       "\n",
       "    .dataframe thead th {\n",
       "        text-align: right;\n",
       "    }\n",
       "</style>\n",
       "<table border=\"1\" class=\"dataframe\">\n",
       "  <thead>\n",
       "    <tr style=\"text-align: right;\">\n",
       "      <th></th>\n",
       "      <th>LoanAmount</th>\n",
       "      <th>Zip</th>\n",
       "      <th>NAICSCode</th>\n",
       "      <th>JobsReported</th>\n",
       "    </tr>\n",
       "  </thead>\n",
       "  <tbody>\n",
       "    <tr>\n",
       "      <td>count</td>\n",
       "      <td>2.521815e+06</td>\n",
       "      <td>2.521647e+06</td>\n",
       "      <td>2.441369e+06</td>\n",
       "      <td>2.360915e+06</td>\n",
       "    </tr>\n",
       "    <tr>\n",
       "      <td>mean</td>\n",
       "      <td>3.251852e+04</td>\n",
       "      <td>5.537443e+04</td>\n",
       "      <td>5.541161e+05</td>\n",
       "      <td>4.460312e+00</td>\n",
       "    </tr>\n",
       "    <tr>\n",
       "      <td>std</td>\n",
       "      <td>3.286932e+04</td>\n",
       "      <td>3.239591e+04</td>\n",
       "      <td>1.806539e+05</td>\n",
       "      <td>1.038640e+01</td>\n",
       "    </tr>\n",
       "    <tr>\n",
       "      <td>min</td>\n",
       "      <td>1.000000e-02</td>\n",
       "      <td>9.200000e+01</td>\n",
       "      <td>1.111100e+05</td>\n",
       "      <td>-6.000000e+00</td>\n",
       "    </tr>\n",
       "    <tr>\n",
       "      <td>25%</td>\n",
       "      <td>9.517000e+03</td>\n",
       "      <td>3.008000e+04</td>\n",
       "      <td>4.533100e+05</td>\n",
       "      <td>1.000000e+00</td>\n",
       "    </tr>\n",
       "    <tr>\n",
       "      <td>50%</td>\n",
       "      <td>2.080000e+04</td>\n",
       "      <td>4.734600e+04</td>\n",
       "      <td>5.414300e+05</td>\n",
       "      <td>2.000000e+00</td>\n",
       "    </tr>\n",
       "    <tr>\n",
       "      <td>75%</td>\n",
       "      <td>4.376700e+04</td>\n",
       "      <td>9.001500e+04</td>\n",
       "      <td>6.244100e+05</td>\n",
       "      <td>6.000000e+00</td>\n",
       "    </tr>\n",
       "    <tr>\n",
       "      <td>max</td>\n",
       "      <td>1.499990e+05</td>\n",
       "      <td>9.995000e+04</td>\n",
       "      <td>9.999900e+05</td>\n",
       "      <td>5.000000e+02</td>\n",
       "    </tr>\n",
       "  </tbody>\n",
       "</table>\n",
       "</div>"
      ],
      "text/plain": [
       "         LoanAmount           Zip     NAICSCode  JobsReported\n",
       "count  2.521815e+06  2.521647e+06  2.441369e+06  2.360915e+06\n",
       "mean   3.251852e+04  5.537443e+04  5.541161e+05  4.460312e+00\n",
       "std    3.286932e+04  3.239591e+04  1.806539e+05  1.038640e+01\n",
       "min    1.000000e-02  9.200000e+01  1.111100e+05 -6.000000e+00\n",
       "25%    9.517000e+03  3.008000e+04  4.533100e+05  1.000000e+00\n",
       "50%    2.080000e+04  4.734600e+04  5.414300e+05  2.000000e+00\n",
       "75%    4.376700e+04  9.001500e+04  6.244100e+05  6.000000e+00\n",
       "max    1.499990e+05  9.995000e+04  9.999900e+05  5.000000e+02"
      ]
     },
     "execution_count": 228,
     "metadata": {},
     "output_type": "execute_result"
    }
   ],
   "source": [
    "sba.describe()"
   ]
  },
  {
   "cell_type": "code",
   "execution_count": 229,
   "metadata": {},
   "outputs": [
    {
     "data": {
      "text/plain": [
       "<matplotlib.axes._subplots.AxesSubplot at 0x26492afc688>"
      ]
     },
     "execution_count": 229,
     "metadata": {},
     "output_type": "execute_result"
    },
    {
     "data": {
      "image/png": "[encoded data removed]",
      "text/plain": [
       "<Figure size 432x288 with 1 Axes>"
      ]
     },
     "metadata": {
      "needs_background": "light"
     },
     "output_type": "display_data"
    }
   ],
   "source": [
    "sns.distplot(sba['LoanAmount'])"
   ]
  },
  {
   "cell_type": "code",
   "execution_count": 231,
   "metadata": {},
   "outputs": [
    {
     "data": {
      "text/plain": [
       "<matplotlib.axes._subplots.AxesSubplot at 0x26488d11488>"
      ]
     },
     "execution_count": 231,
     "metadata": {},
     "output_type": "execute_result"
    },
    {
     "data": {
      "image/png": "[encoded data removed]",
      "text/plain": [
       "<Figure size 432x288 with 1 Axes>"
      ]
     },
     "metadata": {
      "needs_background": "light"
     },
     "output_type": "display_data"
    }
   ],
   "source": [
    "sns.countplot(sba['State'])"
   ]
  },
  {
   "cell_type": "code",
   "execution_count": 232,
   "metadata": {},
   "outputs": [
    {
     "data": {
      "text/plain": [
       "<matplotlib.axes._subplots.AxesSubplot at 0x2648b568148>"
      ]
     },
     "execution_count": 232,
     "metadata": {},
     "output_type": "execute_result"
    },
    {
     "data": {
      "image/png": "[encoded data removed]",
      "text/plain": [
       "<Figure size 1440x648 with 1 Axes>"
      ]
     },
     "metadata": {
      "needs_background": "light"
     },
     "output_type": "display_data"
    }
   ],
   "source": [
    "plt.figure(figsize=(20,9))\n",
    "sns.countplot(y=sba['BusinessType'])"
   ]
  },
  {
   "cell_type": "code",
   "execution_count": 233,
   "metadata": {},
   "outputs": [
    {
     "data": {
      "text/plain": [
       "<matplotlib.axes._subplots.AxesSubplot at 0x2648ccc9448>"
      ]
     },
     "execution_count": 233,
     "metadata": {},
     "output_type": "execute_result"
    },
    {
     "data": {
      "image/png": "[encoded data removed]",
      "text/plain": [
       "<Figure size 432x288 with 1 Axes>"
      ]
     },
     "metadata": {
      "needs_background": "light"
     },
     "output_type": "display_data"
    }
   ],
   "source": [
    "sns.countplot(sba['Gender'])"
   ]
  },
  {
   "cell_type": "code",
   "execution_count": 234,
   "metadata": {},
   "outputs": [
    {
     "data": {
      "text/html": [
       "<div>\n",
       "<style scoped>\n",
       "    .dataframe tbody tr th:only-of-type {\n",
       "        vertical-align: middle;\n",
       "    }\n",
       "\n",
       "    .dataframe tbody tr th {\n",
       "        vertical-align: top;\n",
       "    }\n",
       "\n",
       "    .dataframe thead th {\n",
       "        text-align: right;\n",
       "    }\n",
       "</style>\n",
       "<table border=\"1\" class=\"dataframe\">\n",
       "  <thead>\n",
       "    <tr style=\"text-align: right;\">\n",
       "      <th></th>\n",
       "      <th>LoanAmount</th>\n",
       "      <th>City</th>\n",
       "      <th>State</th>\n",
       "      <th>Zip</th>\n",
       "      <th>NAICSCode</th>\n",
       "      <th>BusinessType</th>\n",
       "      <th>RaceEthnicity</th>\n",
       "      <th>Gender</th>\n",
       "      <th>Veteran</th>\n",
       "      <th>NonProfit</th>\n",
       "      <th>JobsReported</th>\n",
       "      <th>DateApproved</th>\n",
       "      <th>Lender</th>\n",
       "      <th>CD</th>\n",
       "    </tr>\n",
       "  </thead>\n",
       "  <tbody>\n",
       "    <tr>\n",
       "      <td>0</td>\n",
       "      <td>149992.0</td>\n",
       "      <td>BELLINGHAM</td>\n",
       "      <td>WA</td>\n",
       "      <td>98225.0</td>\n",
       "      <td>NaN</td>\n",
       "      <td>Subchapter S Corporation</td>\n",
       "      <td>Unanswered</td>\n",
       "      <td>Unanswered</td>\n",
       "      <td>Unanswered</td>\n",
       "      <td>NaN</td>\n",
       "      <td>11.0</td>\n",
       "      <td>05/01/2020</td>\n",
       "      <td>JPMorgan Chase Bank, National Association</td>\n",
       "      <td>WA-02</td>\n",
       "    </tr>\n",
       "    <tr>\n",
       "      <td>1</td>\n",
       "      <td>149980.0</td>\n",
       "      <td>SPOKANE VALLEY</td>\n",
       "      <td>WA</td>\n",
       "      <td>99216.0</td>\n",
       "      <td>621210.0</td>\n",
       "      <td>Limited  Liability Company(LLC)</td>\n",
       "      <td>Unanswered</td>\n",
       "      <td>Unanswered</td>\n",
       "      <td>Unanswered</td>\n",
       "      <td>NaN</td>\n",
       "      <td>12.0</td>\n",
       "      <td>04/29/2020</td>\n",
       "      <td>Banner Bank</td>\n",
       "      <td>WA-05</td>\n",
       "    </tr>\n",
       "    <tr>\n",
       "      <td>2</td>\n",
       "      <td>149975.0</td>\n",
       "      <td>Kirkland</td>\n",
       "      <td>WA</td>\n",
       "      <td>98033.0</td>\n",
       "      <td>339999.0</td>\n",
       "      <td>Subchapter S Corporation</td>\n",
       "      <td>Unanswered</td>\n",
       "      <td>Unanswered</td>\n",
       "      <td>Unanswered</td>\n",
       "      <td>NaN</td>\n",
       "      <td>6.0</td>\n",
       "      <td>04/16/2020</td>\n",
       "      <td>Seattle Bank</td>\n",
       "      <td>WA-01</td>\n",
       "    </tr>\n",
       "    <tr>\n",
       "      <td>3</td>\n",
       "      <td>149950.0</td>\n",
       "      <td>Port Orchard</td>\n",
       "      <td>WA</td>\n",
       "      <td>98367.0</td>\n",
       "      <td>238210.0</td>\n",
       "      <td>Limited  Liability Company(LLC)</td>\n",
       "      <td>Unanswered</td>\n",
       "      <td>Unanswered</td>\n",
       "      <td>Unanswered</td>\n",
       "      <td>NaN</td>\n",
       "      <td>10.0</td>\n",
       "      <td>06/13/2020</td>\n",
       "      <td>Kabbage, Inc.</td>\n",
       "      <td>WA-06</td>\n",
       "    </tr>\n",
       "    <tr>\n",
       "      <td>4</td>\n",
       "      <td>149922.0</td>\n",
       "      <td>BURLINGTON</td>\n",
       "      <td>WA</td>\n",
       "      <td>98233.0</td>\n",
       "      <td>999990.0</td>\n",
       "      <td>Subchapter S Corporation</td>\n",
       "      <td>Unanswered</td>\n",
       "      <td>Unanswered</td>\n",
       "      <td>Unanswered</td>\n",
       "      <td>NaN</td>\n",
       "      <td>12.0</td>\n",
       "      <td>05/03/2020</td>\n",
       "      <td>Cross River Bank</td>\n",
       "      <td>WA-02</td>\n",
       "    </tr>\n",
       "  </tbody>\n",
       "</table>\n",
       "</div>"
      ],
      "text/plain": [
       "   LoanAmount            City State      Zip  NAICSCode  \\\n",
       "0    149992.0      BELLINGHAM    WA  98225.0        NaN   \n",
       "1    149980.0  SPOKANE VALLEY    WA  99216.0   621210.0   \n",
       "2    149975.0        Kirkland    WA  98033.0   339999.0   \n",
       "3    149950.0    Port Orchard    WA  98367.0   238210.0   \n",
       "4    149922.0      BURLINGTON    WA  98233.0   999990.0   \n",
       "\n",
       "                      BusinessType RaceEthnicity      Gender     Veteran  \\\n",
       "0         Subchapter S Corporation    Unanswered  Unanswered  Unanswered   \n",
       "1  Limited  Liability Company(LLC)    Unanswered  Unanswered  Unanswered   \n",
       "2         Subchapter S Corporation    Unanswered  Unanswered  Unanswered   \n",
       "3  Limited  Liability Company(LLC)    Unanswered  Unanswered  Unanswered   \n",
       "4         Subchapter S Corporation    Unanswered  Unanswered  Unanswered   \n",
       "\n",
       "  NonProfit  JobsReported DateApproved  \\\n",
       "0       NaN          11.0   05/01/2020   \n",
       "1       NaN          12.0   04/29/2020   \n",
       "2       NaN           6.0   04/16/2020   \n",
       "3       NaN          10.0   06/13/2020   \n",
       "4       NaN          12.0   05/03/2020   \n",
       "\n",
       "                                      Lender     CD  \n",
       "0  JPMorgan Chase Bank, National Association  WA-02  \n",
       "1                                Banner Bank  WA-05  \n",
       "2                               Seattle Bank  WA-01  \n",
       "3                              Kabbage, Inc.  WA-06  \n",
       "4                           Cross River Bank  WA-02  "
      ]
     },
     "execution_count": 234,
     "metadata": {},
     "output_type": "execute_result"
    }
   ],
   "source": [
    "sba.head()"
   ]
  },
  {
   "cell_type": "code",
   "execution_count": 235,
   "metadata": {},
   "outputs": [
    {
     "data": {
      "text/plain": [
       "array(['Subchapter S Corporation', 'Limited  Liability Company(LLC)',\n",
       "       'Corporation', 'Non-Profit Organization',\n",
       "       'Limited Liability Partnership', 'Sole Proprietorship',\n",
       "       'Cooperative', 'Trust', 'Partnership', 'Professional Association',\n",
       "       'Non-Profit Childcare Center', 'Self-Employed Individuals', nan,\n",
       "       'Joint Venture', 'Independent Contractors', 'Tenant in Common',\n",
       "       'Employee Stock Ownership Plan(ESOP)',\n",
       "       'Rollover as Business Start-Ups (ROB'], dtype=object)"
      ]
     },
     "execution_count": 235,
     "metadata": {},
     "output_type": "execute_result"
    }
   ],
   "source": [
    "sba['BusinessType'].unique()"
   ]
  },
  {
   "cell_type": "code",
   "execution_count": 236,
   "metadata": {},
   "outputs": [
    {
     "data": {
      "text/plain": [
       "3571"
      ]
     },
     "execution_count": 236,
     "metadata": {},
     "output_type": "execute_result"
    }
   ],
   "source": [
    "sba['Lender'].nunique()"
   ]
  },
  {
   "cell_type": "code",
   "execution_count": 237,
   "metadata": {},
   "outputs": [
    {
     "data": {
      "text/plain": [
       "array(['WA-02', 'WA-05', 'WA-01', 'WA-06', 'WA-09', 'WA-03', 'WA-04',\n",
       "       'WA-08', 'WA-10', 'WA-07', 'MT-00', 'AK-00', 'CA-30', nan, 'ID-01',\n",
       "       'OR-02', 'VA-07', 'OR-03', 'NV-04', 'TX-27', 'VA-02', 'VA-05',\n",
       "       'VA-06', 'VA-11', 'VA-09', 'VA-03', 'VA-10', 'VA-04', 'VA-08',\n",
       "       'VA-01', 'DC-00', 'PA-11', 'NH-01', 'WV-03', 'NC-01', 'GA-05',\n",
       "       'MD-04', 'SC-01', 'SC-06', 'MI-13', 'SC-04', 'CA-27', 'CA-49',\n",
       "       'CA-35', 'FL-18', 'FL-20', 'CA-38', 'AL-02', 'AE-00', 'CA-42',\n",
       "       'FL-14', 'MA-05', 'NY-04', 'NJ-11', 'NY-03', 'NV-03', 'CA-33',\n",
       "       'NC-06', 'FL-13', 'SC-05', 'SC-02', 'SC-07', 'SC-03', 'WY-00',\n",
       "       'PA-03', 'MS-04', 'MD-08', 'WV-01', 'PA-01', 'MS-03', 'AL-06',\n",
       "       'GA-10', 'NY-11', 'NY-08', 'NY-02', 'NY-10', 'NY-25', 'NY-24',\n",
       "       'NY-07', 'NY-12', 'NY-17', 'NY-01', 'NY-06', 'NY-19', 'NY-16',\n",
       "       'NY-26', 'NY-27', 'NY-23', 'NY-20', 'NY-13', 'NY-21', 'NY-22',\n",
       "       'NY-18', 'NY-09', 'NY-14', 'NY-05', 'NY-15', 'NJ-07', 'NJ-09',\n",
       "       'FL-07', 'CT-04', 'NJ-01', 'AZ-09', 'NJ-03', 'NJ-04', 'LA-06',\n",
       "       'NJ-10', 'NJ-12', 'NJ-06', 'NJ-05', 'NJ-08', 'VT-00', 'MA-07',\n",
       "       'NM-02', 'NM-01', 'NM-03', 'CA-07', 'CO-03', 'TX-16', 'TX-31',\n",
       "       'UT-02', 'NJ-02', 'PA-04', 'PA-06', 'IL-07', 'KY-01', 'MN-08',\n",
       "       'FL-22', 'PA-07', 'NV-01', 'NV-02', 'AZ-02', 'CA-53', 'ID-02',\n",
       "       'CT-03', 'SD-00', 'IN-08', 'IN-03', 'IN-02', 'IN-06', 'IN-05',\n",
       "       'IN-07', 'IN-09', 'IN-01', 'IN-04', 'MO-04', 'IL-03', 'OH-15',\n",
       "       'IL-06', 'KY-06', 'OH-01', 'IL-15', 'MI-06', 'GU-00', 'GA-04',\n",
       "       'GA-06', 'GA-01', 'GA-07', 'GA-13', 'GA-03', 'GA-09', 'GA-02',\n",
       "       'GA-14', 'GA-11', 'GA-12', 'GA-08', 'FL-01', 'OH-12', 'TN-03',\n",
       "       'IL-17', 'CA-12', 'AL-03', 'MA-01', 'FL-26', 'FL-16', 'FL-02',\n",
       "       'FL-09', 'FL-23', 'FL-27', 'FL-08', 'FL-15', 'FL-06', 'FL-03',\n",
       "       'FL-21', 'FL-10', 'FL-25', 'FL-04', 'FL-17', 'FL-19', 'FL-24',\n",
       "       'FL-11', 'FL-12', 'FL-05', 'OH-07', 'MN-01', 'MA-06', 'OH-06',\n",
       "       'CA-01', 'TX-04', 'CA-18', 'CA-43', 'CA-31', 'CA-20', 'CA-13',\n",
       "       'CA-22', 'CA-08', 'CA-17', 'CA-19', 'CA-14', 'CA-39', 'CA-10',\n",
       "       'CA-03', 'CA-11', 'CA-50', 'CA-15', 'CA-05', 'CA-44', 'CA-32',\n",
       "       'CA-51', 'CA-21', 'CA-02', 'CA-36', 'CA-52', 'CA-25', 'CA-24',\n",
       "       'CA-40', 'CA-45', 'CA-48', 'CA-28', 'CA-34', 'CA-47', 'CA-04',\n",
       "       'CA-09', 'CA-41', 'CA-26', 'CA-37', 'CA-46', 'CA-29', 'CA-16',\n",
       "       'CA-06', 'CA-23', 'UT-04', 'WI-04', 'IL-11', 'WI-02', 'AP-00',\n",
       "       'UT-01', 'MA-09', 'AZ-06', 'HI-02', 'AR-02', 'AR-03', 'AR-04',\n",
       "       'AR-01', 'MO-07', 'IL-12', 'AZ-08', 'IL-13', 'MS-02', 'OK-02',\n",
       "       'TX-15', 'TX-22', 'AL-01', 'AZ-05', 'AZ-01', 'AZ-07', 'AZ-04',\n",
       "       'AZ-03', 'PA-18', 'NC-12', 'AL-05', 'AL-04', 'AL-07', 'OH-04',\n",
       "       'PA-16', 'OH-05', 'TX-24', 'TX-11', 'TX-28', 'TX-29', 'TX-12',\n",
       "       'TX-18', 'TX-21', 'TX-20', 'TX-10', 'TX-06', 'TX-07', 'TX-23',\n",
       "       'TX-30', 'TX-17', 'TX-09', 'TX-19', 'TX-02', 'TX-36', 'TX-13',\n",
       "       'TX-05', 'TX-01', 'TX-03', 'TX-32', 'TX-14', 'TX-34', 'TX-26',\n",
       "       'TX-25', 'TX-08', 'TX-35', 'TX-33', 'LA-02', 'UT-03'], dtype=object)"
      ]
     },
     "execution_count": 237,
     "metadata": {},
     "output_type": "execute_result"
    }
   ],
   "source": [
    "sba['CD'].unique()"
   ]
  },
  {
   "cell_type": "markdown",
   "metadata": {},
   "source": [
    "# LOAN AMOUNT:"
   ]
  },
  {
   "cell_type": "markdown",
   "metadata": {},
   "source": [
    "State Average vs National Average"
   ]
  },
  {
   "cell_type": "code",
   "execution_count": 238,
   "metadata": {},
   "outputs": [
    {
     "data": {
      "text/plain": [
       "32518.519942180505"
      ]
     },
     "execution_count": 238,
     "metadata": {},
     "output_type": "execute_result"
    }
   ],
   "source": [
    "sba['LoanAmount'].mean()"
   ]
  },
  {
   "cell_type": "code",
   "execution_count": 239,
   "metadata": {},
   "outputs": [
    {
     "data": {
      "text/plain": [
       "array(['WA', 'VA', nan, 'FI', 'AE', 'SC', 'NY', 'NM', 'NJ', 'NV', 'MT',\n",
       "       'IN', 'GU', 'GA', 'FL', 'CA', 'AR', 'AK', 'AZ', 'AL', 'TX', 'UT'],\n",
       "      dtype=object)"
      ]
     },
     "execution_count": 239,
     "metadata": {},
     "output_type": "execute_result"
    }
   ],
   "source": [
    "sba['State'].unique()"
   ]
  },
  {
   "cell_type": "code",
   "execution_count": 240,
   "metadata": {},
   "outputs": [
    {
     "data": {
      "text/plain": [
       "State\n",
       "AE    27400.000000\n",
       "AK    35969.790137\n",
       "AL    30937.945392\n",
       "AR    29334.661295\n",
       "AZ    33281.958411\n",
       "CA    34501.116405\n",
       "FI    42100.000000\n",
       "FL    29135.578559\n",
       "GA    30080.449583\n",
       "GU    32360.116472\n",
       "IN    33704.281537\n",
       "MT    30153.880626\n",
       "NJ    34131.560409\n",
       "NM    34978.469796\n",
       "NV    31665.879127\n",
       "NY    32797.955334\n",
       "SC    32432.577246\n",
       "TX    32333.238787\n",
       "UT    32950.048204\n",
       "VA    34128.768585\n",
       "WA    35974.272709\n",
       "Name: LoanAmount, dtype: float64"
      ]
     },
     "execution_count": 240,
     "metadata": {},
     "output_type": "execute_result"
    }
   ],
   "source": [
    "grouped = sba.groupby([\"State\"])\n",
    "avg=grouped.agg(np.mean)\n",
    "avg['LoanAmount']"
   ]
  },
  {
   "cell_type": "code",
   "execution_count": 241,
   "metadata": {},
   "outputs": [
    {
     "data": {
      "text/plain": [
       "<matplotlib.axes._subplots.AxesSubplot at 0x2648ccfc848>"
      ]
     },
     "execution_count": 241,
     "metadata": {},
     "output_type": "execute_result"
    },
    {
     "data": {
      "image/png": "[encoded data removed]",
      "text/plain": [
       "<Figure size 720x720 with 1 Axes>"
      ]
     },
     "metadata": {
      "needs_background": "light"
     },
     "output_type": "display_data"
    }
   ],
   "source": [
    "plt.figure(figsize=(10,10))\n",
    "sns.boxplot(y=sba['LoanAmount'],x=sba['State'])"
   ]
  },
  {
   "cell_type": "markdown",
   "metadata": {},
   "source": [
    "Average loan for a particular city."
   ]
  },
  {
   "cell_type": "code",
   "execution_count": 242,
   "metadata": {},
   "outputs": [
    {
     "data": {
      "text/plain": [
       "34145"
      ]
     },
     "execution_count": 242,
     "metadata": {},
     "output_type": "execute_result"
    }
   ],
   "source": [
    "sba['City'].nunique()"
   ]
  },
  {
   "cell_type": "code",
   "execution_count": 243,
   "metadata": {},
   "outputs": [
    {
     "data": {
      "text/plain": [
       "32518.519942180505"
      ]
     },
     "execution_count": 243,
     "metadata": {},
     "output_type": "execute_result"
    }
   ],
   "source": [
    "sba[\"LoanAmount\"].agg(np.mean)"
   ]
  },
  {
   "cell_type": "code",
   "execution_count": 247,
   "metadata": {},
   "outputs": [
    {
     "data": {
      "text/plain": [
       "City\n",
       "229 TULIA                             79600.00\n",
       "2358 senter rd.                       12218.00\n",
       "23831                                 60000.00\n",
       "2401 S East Ocean Blvd                 2941.16\n",
       "2404 Cottonwood Ave                   53000.00\n",
       "25510 Zion Lutheran Cemetery Road      9909.13\n",
       "2610 De la vina street                64121.47\n",
       "270 Shenandoah drive                   5000.00\n",
       "2727 HIGHLAND                        102762.00\n",
       "2785 PACIFIC COAST HIGHWAY #515       64000.00\n",
       "Name: LoanAmount, dtype: float64"
      ]
     },
     "execution_count": 247,
     "metadata": {},
     "output_type": "execute_result"
    }
   ],
   "source": [
    "grouped = sba.groupby([\"City\"])\n",
    "avg_city=grouped.agg(np.mean)\n",
    "avg_city['LoanAmount'][100:110]"
   ]
  },
  {
   "cell_type": "markdown",
   "metadata": {},
   "source": [
    "Loan Amount grouped by other KPIs like Business Type, Race, Gender etc."
   ]
  },
  {
   "cell_type": "code",
   "execution_count": 248,
   "metadata": {},
   "outputs": [
    {
     "data": {
      "text/plain": [
       "BusinessType\n",
       "Cooperative                            45107.118424\n",
       "Corporation                            40948.746894\n",
       "Employee Stock Ownership Plan(ESOP)    39419.805866\n",
       "Independent Contractors                11151.869492\n",
       "Joint Venture                          38349.236468\n",
       "Limited  Liability Company(LLC)        34354.381057\n",
       "Limited Liability Partnership          45842.970116\n",
       "Non-Profit Childcare Center            55314.749689\n",
       "Non-Profit Organization                41660.814067\n",
       "Partnership                            40775.279942\n",
       "Professional Association               42367.476730\n",
       "Rollover as Business Start-Ups (ROB    24368.285714\n",
       "Self-Employed Individuals              13140.501500\n",
       "Sole Proprietorship                    17065.451538\n",
       "Subchapter S Corporation               41312.924797\n",
       "Tenant in Common                       23233.588547\n",
       "Trust                                  35938.254457\n",
       "Name: LoanAmount, dtype: float64"
      ]
     },
     "execution_count": 248,
     "metadata": {},
     "output_type": "execute_result"
    }
   ],
   "source": [
    "#BUSINESS TYPE\n",
    "grouped = sba.groupby([\"BusinessType\"])\n",
    "BT=grouped.agg(np.mean)\n",
    "BT['LoanAmount']"
   ]
  },
  {
   "cell_type": "code",
   "execution_count": 249,
   "metadata": {},
   "outputs": [
    {
     "data": {
      "text/plain": [
       "Gender\n",
       "Female Owned    36566.171389\n",
       "Male Owned      43126.666856\n",
       "Unanswered      30621.573948\n",
       "Name: LoanAmount, dtype: float64"
      ]
     },
     "execution_count": 249,
     "metadata": {},
     "output_type": "execute_result"
    }
   ],
   "source": [
    "#gender\n",
    "grouped = sba.groupby([\"Gender\"])\n",
    "gen=grouped.agg(np.mean)\n",
    "gen['LoanAmount']"
   ]
  },
  {
   "cell_type": "code",
   "execution_count": 250,
   "metadata": {},
   "outputs": [
    {
     "data": {
      "text/plain": [
       "RaceEthnicity\n",
       "American Indian or Alaska Native    42655.653014\n",
       "Asian                               40057.289318\n",
       "Black or African American           30937.357503\n",
       "Eskimo & Aleut                       9539.250000\n",
       "Hispanic                            37971.094531\n",
       "Multi Group                         27169.111111\n",
       "Puerto Rican                        19727.666250\n",
       "Unanswered                          31760.986756\n",
       "White                               43895.169517\n",
       "Name: LoanAmount, dtype: float64"
      ]
     },
     "execution_count": 250,
     "metadata": {},
     "output_type": "execute_result"
    }
   ],
   "source": [
    "grouped = sba.groupby([\"RaceEthnicity\"])\n",
    "re=grouped.agg(np.mean)\n",
    "re['LoanAmount']"
   ]
  },
  {
   "cell_type": "markdown",
   "metadata": {},
   "source": [
    "Find a linear/non-linear relation between number of jobs reported and loan amount."
   ]
  },
  {
   "cell_type": "code",
   "execution_count": 251,
   "metadata": {},
   "outputs": [
    {
     "data": {
      "text/plain": [
       "<matplotlib.collections.PathCollection at 0x26489355508>"
      ]
     },
     "execution_count": 251,
     "metadata": {},
     "output_type": "execute_result"
    },
    {
     "data": {
      "image/png": "[encoded data removed]",
      "text/plain": [
       "<Figure size 432x288 with 1 Axes>"
      ]
     },
     "metadata": {
      "needs_background": "light"
     },
     "output_type": "display_data"
    }
   ],
   "source": [
    "plt.scatter(sba['JobsReported'],sba['LoanAmount'])"
   ]
  },
  {
   "cell_type": "code",
   "execution_count": 252,
   "metadata": {},
   "outputs": [
    {
     "data": {
      "text/html": [
       "<div>\n",
       "<style scoped>\n",
       "    .dataframe tbody tr th:only-of-type {\n",
       "        vertical-align: middle;\n",
       "    }\n",
       "\n",
       "    .dataframe tbody tr th {\n",
       "        vertical-align: top;\n",
       "    }\n",
       "\n",
       "    .dataframe thead th {\n",
       "        text-align: right;\n",
       "    }\n",
       "</style>\n",
       "<table border=\"1\" class=\"dataframe\">\n",
       "  <thead>\n",
       "    <tr style=\"text-align: right;\">\n",
       "      <th></th>\n",
       "      <th>LoanAmount</th>\n",
       "      <th>JobsReported</th>\n",
       "    </tr>\n",
       "  </thead>\n",
       "  <tbody>\n",
       "    <tr>\n",
       "      <td>LoanAmount</td>\n",
       "      <td>1.000000</td>\n",
       "      <td>0.340564</td>\n",
       "    </tr>\n",
       "    <tr>\n",
       "      <td>JobsReported</td>\n",
       "      <td>0.340564</td>\n",
       "      <td>1.000000</td>\n",
       "    </tr>\n",
       "  </tbody>\n",
       "</table>\n",
       "</div>"
      ],
      "text/plain": [
       "              LoanAmount  JobsReported\n",
       "LoanAmount      1.000000      0.340564\n",
       "JobsReported    0.340564      1.000000"
      ]
     },
     "execution_count": 252,
     "metadata": {},
     "output_type": "execute_result"
    }
   ],
   "source": [
    "sba[['LoanAmount','JobsReported']].corr()"
   ]
  },
  {
   "cell_type": "code",
   "execution_count": 253,
   "metadata": {},
   "outputs": [
    {
     "data": {
      "text/plain": [
       "<matplotlib.axes._subplots.AxesSubplot at 0x2648934d248>"
      ]
     },
     "execution_count": 253,
     "metadata": {},
     "output_type": "execute_result"
    },
    {
     "data": {
      "image/png": "[encoded data removed]",
      "text/plain": [
       "<Figure size 576x576 with 2 Axes>"
      ]
     },
     "metadata": {
      "needs_background": "light"
     },
     "output_type": "display_data"
    }
   ],
   "source": [
    "plt.figure(figsize=(8,8))\n",
    "sns.heatmap(sba[['LoanAmount','JobsReported']].corr(),annot=True)"
   ]
  },
  {
   "cell_type": "code",
   "execution_count": 254,
   "metadata": {},
   "outputs": [
    {
     "data": {
      "text/plain": [
       "SpearmanrResult(correlation=nan, pvalue=nan)"
      ]
     },
     "execution_count": 254,
     "metadata": {},
     "output_type": "execute_result"
    }
   ],
   "source": [
    "from scipy.stats import spearmanr\n",
    "relation=spearmanr(sba['LoanAmount'],sba['JobsReported'])\n",
    "relation"
   ]
  },
  {
   "cell_type": "markdown",
   "metadata": {},
   "source": [
    " Amount of loan given by each lender etc."
   ]
  },
  {
   "cell_type": "code",
   "execution_count": 255,
   "metadata": {},
   "outputs": [
    {
     "data": {
      "text/plain": [
       "array(['JPMorgan Chase Bank, National Association', 'Banner Bank',\n",
       "       'Seattle Bank', ..., 'Bank of Laverne', 'RSNB Bank', 'Beehive FCU'],\n",
       "      dtype=object)"
      ]
     },
     "execution_count": 255,
     "metadata": {},
     "output_type": "execute_result"
    }
   ],
   "source": [
    "sba['Lender'].unique()"
   ]
  },
  {
   "cell_type": "code",
   "execution_count": 256,
   "metadata": {},
   "outputs": [
    {
     "data": {
      "text/plain": [
       "3571"
      ]
     },
     "execution_count": 256,
     "metadata": {},
     "output_type": "execute_result"
    }
   ],
   "source": [
    "sba['Lender'].nunique()"
   ]
  },
  {
   "cell_type": "code",
   "execution_count": 259,
   "metadata": {},
   "outputs": [
    {
     "data": {
      "text/plain": [
       "Lender\n",
       "Alpine Capital Bank                 2645523.39\n",
       "Altabank                           10535114.00\n",
       "Altamaha Bank & Trust Company       5912647.35\n",
       "Altana FCU                          2154712.55\n",
       "Alternatives FCU                    2170096.70\n",
       "Altra FCU                           1753874.25\n",
       "Alva State Bank & Trust Company       99600.00\n",
       "Amalgamated Bank of Chicago           27415.00\n",
       "Amarillo National Bank             97842340.00\n",
       "Ambler Savings Bank                  138800.00\n",
       "Name: LoanAmount, dtype: float64"
      ]
     },
     "execution_count": 259,
     "metadata": {},
     "output_type": "execute_result"
    }
   ],
   "source": [
    "grouped = sba.groupby(['Lender'])\n",
    "lender=grouped.agg(np.sum)\n",
    "lender['LoanAmount'][100:110]"
   ]
  },
  {
   "cell_type": "markdown",
   "metadata": {},
   "source": [
    "average loan given by each lender"
   ]
  },
  {
   "cell_type": "code",
   "execution_count": 261,
   "metadata": {},
   "outputs": [
    {
     "data": {
      "text/plain": [
       "Lender\n",
       "Alpine Capital Bank                40083.687727\n",
       "Altabank                           56640.397849\n",
       "Altamaha Bank & Trust Company      36497.823148\n",
       "Altana FCU                         25960.392169\n",
       "Alternatives FCU                   18236.106723\n",
       "Altra FCU                          17194.845588\n",
       "Alva State Bank & Trust Company    16600.000000\n",
       "Amalgamated Bank of Chicago        27415.000000\n",
       "Amarillo National Bank             32473.395287\n",
       "Ambler Savings Bank                34700.000000\n",
       "Name: LoanAmount, dtype: float64"
      ]
     },
     "execution_count": 261,
     "metadata": {},
     "output_type": "execute_result"
    }
   ],
   "source": [
    "grouped = sba.groupby(['Lender'])\n",
    "avg_loan=grouped.agg(np.mean)\n",
    "avg_loan['LoanAmount'][100:110]"
   ]
  },
  {
   "cell_type": "code",
   "execution_count": 262,
   "metadata": {},
   "outputs": [
    {
     "data": {
      "text/html": [
       "<div>\n",
       "<style scoped>\n",
       "    .dataframe tbody tr th:only-of-type {\n",
       "        vertical-align: middle;\n",
       "    }\n",
       "\n",
       "    .dataframe tbody tr th {\n",
       "        vertical-align: top;\n",
       "    }\n",
       "\n",
       "    .dataframe thead th {\n",
       "        text-align: right;\n",
       "    }\n",
       "</style>\n",
       "<table border=\"1\" class=\"dataframe\">\n",
       "  <thead>\n",
       "    <tr style=\"text-align: right;\">\n",
       "      <th></th>\n",
       "      <th>LoanAmount</th>\n",
       "      <th>Zip</th>\n",
       "      <th>NAICSCode</th>\n",
       "      <th>JobsReported</th>\n",
       "    </tr>\n",
       "    <tr>\n",
       "      <th>City</th>\n",
       "      <th></th>\n",
       "      <th></th>\n",
       "      <th></th>\n",
       "      <th></th>\n",
       "    </tr>\n",
       "  </thead>\n",
       "  <tbody>\n",
       "    <tr>\n",
       "      <td># 11-H</td>\n",
       "      <td>20800.000000</td>\n",
       "      <td>10065.0</td>\n",
       "      <td>621111.000000</td>\n",
       "      <td>1.0</td>\n",
       "    </tr>\n",
       "    <tr>\n",
       "      <td># 306</td>\n",
       "      <td>83180.000000</td>\n",
       "      <td>20110.0</td>\n",
       "      <td>541613.000000</td>\n",
       "      <td>5.0</td>\n",
       "    </tr>\n",
       "    <tr>\n",
       "      <td>#269</td>\n",
       "      <td>20000.000000</td>\n",
       "      <td>10012.0</td>\n",
       "      <td>541611.000000</td>\n",
       "      <td>1.0</td>\n",
       "    </tr>\n",
       "    <tr>\n",
       "      <td>#2D</td>\n",
       "      <td>20832.000000</td>\n",
       "      <td>11106.0</td>\n",
       "      <td>512199.000000</td>\n",
       "      <td>1.0</td>\n",
       "    </tr>\n",
       "    <tr>\n",
       "      <td>#303-B</td>\n",
       "      <td>5500.000000</td>\n",
       "      <td>33129.0</td>\n",
       "      <td>453998.000000</td>\n",
       "      <td>1.0</td>\n",
       "    </tr>\n",
       "    <tr>\n",
       "      <td>...</td>\n",
       "      <td>...</td>\n",
       "      <td>...</td>\n",
       "      <td>...</td>\n",
       "      <td>...</td>\n",
       "    </tr>\n",
       "    <tr>\n",
       "      <td>zionsville</td>\n",
       "      <td>13886.056667</td>\n",
       "      <td>46077.0</td>\n",
       "      <td>874738.333333</td>\n",
       "      <td>5.0</td>\n",
       "    </tr>\n",
       "    <tr>\n",
       "      <td>zone Park</td>\n",
       "      <td>37082.000000</td>\n",
       "      <td>11417.0</td>\n",
       "      <td>721199.000000</td>\n",
       "      <td>7.0</td>\n",
       "    </tr>\n",
       "    <tr>\n",
       "      <td>zone park</td>\n",
       "      <td>727.000000</td>\n",
       "      <td>11416.0</td>\n",
       "      <td>551112.000000</td>\n",
       "      <td>0.0</td>\n",
       "    </tr>\n",
       "    <tr>\n",
       "      <td>zuni</td>\n",
       "      <td>44650.000000</td>\n",
       "      <td>23898.0</td>\n",
       "      <td>238160.000000</td>\n",
       "      <td>5.0</td>\n",
       "    </tr>\n",
       "    <tr>\n",
       "      <td>{Peachtree City</td>\n",
       "      <td>146457.300000</td>\n",
       "      <td>30269.0</td>\n",
       "      <td>238990.000000</td>\n",
       "      <td>10.0</td>\n",
       "    </tr>\n",
       "  </tbody>\n",
       "</table>\n",
       "<p>34145 rows × 4 columns</p>\n",
       "</div>"
      ],
      "text/plain": [
       "                    LoanAmount      Zip      NAICSCode  JobsReported\n",
       "City                                                                \n",
       "# 11-H            20800.000000  10065.0  621111.000000           1.0\n",
       "# 306             83180.000000  20110.0  541613.000000           5.0\n",
       "#269              20000.000000  10012.0  541611.000000           1.0\n",
       "#2D               20832.000000  11106.0  512199.000000           1.0\n",
       "#303-B             5500.000000  33129.0  453998.000000           1.0\n",
       "...                        ...      ...            ...           ...\n",
       "zionsville        13886.056667  46077.0  874738.333333           5.0\n",
       "zone Park         37082.000000  11417.0  721199.000000           7.0\n",
       "zone park           727.000000  11416.0  551112.000000           0.0\n",
       "zuni              44650.000000  23898.0  238160.000000           5.0\n",
       "{Peachtree City  146457.300000  30269.0  238990.000000          10.0\n",
       "\n",
       "[34145 rows x 4 columns]"
      ]
     },
     "execution_count": 262,
     "metadata": {},
     "output_type": "execute_result"
    }
   ],
   "source": [
    "grouped = sba.groupby([\"City\"])\n",
    "grouped.agg(np.mean)"
   ]
  },
  {
   "cell_type": "markdown",
   "metadata": {},
   "source": [
    "# CITY:\n",
    "\n"
   ]
  },
  {
   "cell_type": "markdown",
   "metadata": {},
   "source": [
    "City wise distribution of businesses granted loans."
   ]
  },
  {
   "cell_type": "code",
   "execution_count": 269,
   "metadata": {},
   "outputs": [
    {
     "data": {
      "text/plain": [
       "City            BusinessType                   \n",
       "ABBEVILLE       Limited  Liability Company(LLC)     1426040.09\n",
       "                Limited Liability Partnership         55790.00\n",
       "                Non-Profit Childcare Center           42846.40\n",
       "                Non-Profit Organization              200829.49\n",
       "                Partnership                           92948.40\n",
       "                Self-Employed Individuals             78855.20\n",
       "                Sole Proprietorship                  421268.19\n",
       "                Subchapter S Corporation             872352.97\n",
       "ABBOTT          Corporation                           47700.00\n",
       "                Limited  Liability Company(LLC)      173247.50\n",
       "                Partnership                           57932.50\n",
       "                Sole Proprietorship                   85955.11\n",
       "                Subchapter S Corporation              29210.00\n",
       "ABERDEEM        Limited  Liability Company(LLC)        7041.00\n",
       "ABERDEEN        Corporation                         4265359.12\n",
       "                Independent Contractors               12012.50\n",
       "                Limited  Liability Company(LLC)     2047769.32\n",
       "                Limited Liability Partnership        130300.00\n",
       "                Non-Profit Childcare Center           44804.34\n",
       "                Non-Profit Organization              284194.12\n",
       "                Partnership                          185687.00\n",
       "                Professional Association              16700.00\n",
       "                Self-Employed Individuals             26109.87\n",
       "                Sole Proprietorship                  810625.14\n",
       "                Subchapter S Corporation            2095894.00\n",
       "ABERNATHY       Corporation                          800004.00\n",
       "                Independent Contractors               30560.00\n",
       "                Limited  Liability Company(LLC)      326351.50\n",
       "                Non-Profit Organization               22100.00\n",
       "                Partnership                          101329.00\n",
       "                Professional Association              20832.00\n",
       "                Sole Proprietorship                  206328.00\n",
       "                Subchapter S Corporation             112765.00\n",
       "ABILENE         Corporation                        12942668.42\n",
       "                Independent Contractors              352050.69\n",
       "                Limited  Liability Company(LLC)    18780864.39\n",
       "                Limited Liability Partnership       1093979.94\n",
       "                Non-Profit Childcare Center          106037.00\n",
       "                Non-Profit Organization             3322340.24\n",
       "                Partnership                         2486533.53\n",
       "                Professional Association             536388.00\n",
       "                Self-Employed Individuals            736565.50\n",
       "                Sole Proprietorship                 6342719.15\n",
       "                Subchapter S Corporation            7191368.62\n",
       "                Tenant in Common                     108540.00\n",
       "ABILENEABILENE  Sole Proprietorship                   19000.00\n",
       "ABILIENE        Limited  Liability Company(LLC)        7900.00\n",
       "ABINGDON        Corporation                         5187860.35\n",
       "                Independent Contractors              140625.00\n",
       "                Limited  Liability Company(LLC)     3476285.74\n",
       "Name: LoanAmount, dtype: float64"
      ]
     },
     "execution_count": 269,
     "metadata": {},
     "output_type": "execute_result"
    }
   ],
   "source": [
    "group=sba.groupby([\"City\",\"BusinessType\"])\n",
    "z=group.agg(np.sum)\n",
    "z['LoanAmount'][250:300]"
   ]
  },
  {
   "cell_type": "markdown",
   "metadata": {},
   "source": [
    " Highest loan lender in each city."
   ]
  },
  {
   "cell_type": "code",
   "execution_count": 271,
   "metadata": {},
   "outputs": [
    {
     "data": {
      "text/html": [
       "<div>\n",
       "<style scoped>\n",
       "    .dataframe tbody tr th:only-of-type {\n",
       "        vertical-align: middle;\n",
       "    }\n",
       "\n",
       "    .dataframe tbody tr th {\n",
       "        vertical-align: top;\n",
       "    }\n",
       "\n",
       "    .dataframe thead th {\n",
       "        text-align: right;\n",
       "    }\n",
       "</style>\n",
       "<table border=\"1\" class=\"dataframe\">\n",
       "  <thead>\n",
       "    <tr style=\"text-align: right;\">\n",
       "      <th></th>\n",
       "      <th></th>\n",
       "      <th>DateApproved</th>\n",
       "      <th>Gender</th>\n",
       "      <th>JobsReported</th>\n",
       "      <th>LoanAmount</th>\n",
       "      <th>NAICSCode</th>\n",
       "      <th>RaceEthnicity</th>\n",
       "      <th>Veteran</th>\n",
       "      <th>Zip</th>\n",
       "    </tr>\n",
       "    <tr>\n",
       "      <th>City</th>\n",
       "      <th>Lender</th>\n",
       "      <th></th>\n",
       "      <th></th>\n",
       "      <th></th>\n",
       "      <th></th>\n",
       "      <th></th>\n",
       "      <th></th>\n",
       "      <th></th>\n",
       "      <th></th>\n",
       "    </tr>\n",
       "  </thead>\n",
       "  <tbody>\n",
       "    <tr>\n",
       "      <td>2214 Uccello Dr</td>\n",
       "      <td>Prestamos CDFI, LLC</td>\n",
       "      <td>06/30/2020</td>\n",
       "      <td>Unanswered</td>\n",
       "      <td>2.0</td>\n",
       "      <td>8548.00</td>\n",
       "      <td>812112.0</td>\n",
       "      <td>Unanswered</td>\n",
       "      <td>Unanswered</td>\n",
       "      <td>89138.0</td>\n",
       "    </tr>\n",
       "    <tr>\n",
       "      <td>22150</td>\n",
       "      <td>Wells Fargo Bank, National Association</td>\n",
       "      <td>04/30/2020</td>\n",
       "      <td>Unanswered</td>\n",
       "      <td>0.0</td>\n",
       "      <td>6604.00</td>\n",
       "      <td>561730.0</td>\n",
       "      <td>Unanswered</td>\n",
       "      <td>Unanswered</td>\n",
       "      <td>22150.0</td>\n",
       "    </tr>\n",
       "    <tr>\n",
       "      <td>2285 E. Flamingo Rd 101</td>\n",
       "      <td>Cache Valley Bank</td>\n",
       "      <td>05/14/2020</td>\n",
       "      <td>Male Owned</td>\n",
       "      <td>2.0</td>\n",
       "      <td>52500.00</td>\n",
       "      <td>531311.0</td>\n",
       "      <td>Unanswered</td>\n",
       "      <td>Non-Veteran</td>\n",
       "      <td>89119.0</td>\n",
       "    </tr>\n",
       "    <tr>\n",
       "      <td>229 TULIA</td>\n",
       "      <td>Happy State Bank</td>\n",
       "      <td>04/09/2020</td>\n",
       "      <td>Unanswered</td>\n",
       "      <td>8.0</td>\n",
       "      <td>79600.00</td>\n",
       "      <td>621210.0</td>\n",
       "      <td>Unanswered</td>\n",
       "      <td>Unanswered</td>\n",
       "      <td>79088.0</td>\n",
       "    </tr>\n",
       "    <tr>\n",
       "      <td>2358 senter rd.</td>\n",
       "      <td>Cross River Bank</td>\n",
       "      <td>06/10/2020</td>\n",
       "      <td>Unanswered</td>\n",
       "      <td>1.0</td>\n",
       "      <td>12218.00</td>\n",
       "      <td>453998.0</td>\n",
       "      <td>Unanswered</td>\n",
       "      <td>Unanswered</td>\n",
       "      <td>95112.0</td>\n",
       "    </tr>\n",
       "    <tr>\n",
       "      <td>23831</td>\n",
       "      <td>Citibank, N.A.</td>\n",
       "      <td>05/08/2020</td>\n",
       "      <td>Unanswered</td>\n",
       "      <td>14.0</td>\n",
       "      <td>60000.00</td>\n",
       "      <td>713940.0</td>\n",
       "      <td>Unanswered</td>\n",
       "      <td>Unanswered</td>\n",
       "      <td>23831.0</td>\n",
       "    </tr>\n",
       "    <tr>\n",
       "      <td>2401 S East Ocean Blvd</td>\n",
       "      <td>Celtic Bank Corporation</td>\n",
       "      <td>06/15/2020</td>\n",
       "      <td>Unanswered</td>\n",
       "      <td>0.0</td>\n",
       "      <td>2941.16</td>\n",
       "      <td>722320.0</td>\n",
       "      <td>Unanswered</td>\n",
       "      <td>Unanswered</td>\n",
       "      <td>34996.0</td>\n",
       "    </tr>\n",
       "    <tr>\n",
       "      <td>2404 Cottonwood Ave</td>\n",
       "      <td>Prosperity Bank</td>\n",
       "      <td>04/30/2020</td>\n",
       "      <td>Unanswered</td>\n",
       "      <td>7.0</td>\n",
       "      <td>53000.00</td>\n",
       "      <td>813990.0</td>\n",
       "      <td>Unanswered</td>\n",
       "      <td>Unanswered</td>\n",
       "      <td>77404.0</td>\n",
       "    </tr>\n",
       "    <tr>\n",
       "      <td>25510 Zion Lutheran Cemetery Road</td>\n",
       "      <td>Celtic Bank Corporation</td>\n",
       "      <td>05/03/2020</td>\n",
       "      <td>Unanswered</td>\n",
       "      <td>9.0</td>\n",
       "      <td>9909.13</td>\n",
       "      <td>NaN</td>\n",
       "      <td>Unanswered</td>\n",
       "      <td>Unanswered</td>\n",
       "      <td>77375.0</td>\n",
       "    </tr>\n",
       "    <tr>\n",
       "      <td>2610 De la vina street</td>\n",
       "      <td>American Riviera Bank</td>\n",
       "      <td>04/09/2020</td>\n",
       "      <td>Female Owned</td>\n",
       "      <td>5.0</td>\n",
       "      <td>64121.47</td>\n",
       "      <td>453998.0</td>\n",
       "      <td>Unanswered</td>\n",
       "      <td>Non-Veteran</td>\n",
       "      <td>93105.0</td>\n",
       "    </tr>\n",
       "  </tbody>\n",
       "</table>\n",
       "</div>"
      ],
      "text/plain": [
       "                                                                         DateApproved  \\\n",
       "City                              Lender                                                \n",
       "2214 Uccello Dr                   Prestamos CDFI, LLC                      06/30/2020   \n",
       "22150                             Wells Fargo Bank, National Association   04/30/2020   \n",
       "2285 E. Flamingo Rd 101           Cache Valley Bank                        05/14/2020   \n",
       "229 TULIA                         Happy State Bank                         04/09/2020   \n",
       "2358 senter rd.                   Cross River Bank                         06/10/2020   \n",
       "23831                             Citibank, N.A.                           05/08/2020   \n",
       "2401 S East Ocean Blvd            Celtic Bank Corporation                  06/15/2020   \n",
       "2404 Cottonwood Ave               Prosperity Bank                          04/30/2020   \n",
       "25510 Zion Lutheran Cemetery Road Celtic Bank Corporation                  05/03/2020   \n",
       "2610 De la vina street            American Riviera Bank                    04/09/2020   \n",
       "\n",
       "                                                                                Gender  \\\n",
       "City                              Lender                                                 \n",
       "2214 Uccello Dr                   Prestamos CDFI, LLC                       Unanswered   \n",
       "22150                             Wells Fargo Bank, National Association    Unanswered   \n",
       "2285 E. Flamingo Rd 101           Cache Valley Bank                         Male Owned   \n",
       "229 TULIA                         Happy State Bank                          Unanswered   \n",
       "2358 senter rd.                   Cross River Bank                          Unanswered   \n",
       "23831                             Citibank, N.A.                            Unanswered   \n",
       "2401 S East Ocean Blvd            Celtic Bank Corporation                   Unanswered   \n",
       "2404 Cottonwood Ave               Prosperity Bank                           Unanswered   \n",
       "25510 Zion Lutheran Cemetery Road Celtic Bank Corporation                   Unanswered   \n",
       "2610 De la vina street            American Riviera Bank                   Female Owned   \n",
       "\n",
       "                                                                          JobsReported  \\\n",
       "City                              Lender                                                 \n",
       "2214 Uccello Dr                   Prestamos CDFI, LLC                              2.0   \n",
       "22150                             Wells Fargo Bank, National Association           0.0   \n",
       "2285 E. Flamingo Rd 101           Cache Valley Bank                                2.0   \n",
       "229 TULIA                         Happy State Bank                                 8.0   \n",
       "2358 senter rd.                   Cross River Bank                                 1.0   \n",
       "23831                             Citibank, N.A.                                  14.0   \n",
       "2401 S East Ocean Blvd            Celtic Bank Corporation                          0.0   \n",
       "2404 Cottonwood Ave               Prosperity Bank                                  7.0   \n",
       "25510 Zion Lutheran Cemetery Road Celtic Bank Corporation                          9.0   \n",
       "2610 De la vina street            American Riviera Bank                            5.0   \n",
       "\n",
       "                                                                          LoanAmount  \\\n",
       "City                              Lender                                               \n",
       "2214 Uccello Dr                   Prestamos CDFI, LLC                        8548.00   \n",
       "22150                             Wells Fargo Bank, National Association     6604.00   \n",
       "2285 E. Flamingo Rd 101           Cache Valley Bank                         52500.00   \n",
       "229 TULIA                         Happy State Bank                          79600.00   \n",
       "2358 senter rd.                   Cross River Bank                          12218.00   \n",
       "23831                             Citibank, N.A.                            60000.00   \n",
       "2401 S East Ocean Blvd            Celtic Bank Corporation                    2941.16   \n",
       "2404 Cottonwood Ave               Prosperity Bank                           53000.00   \n",
       "25510 Zion Lutheran Cemetery Road Celtic Bank Corporation                    9909.13   \n",
       "2610 De la vina street            American Riviera Bank                     64121.47   \n",
       "\n",
       "                                                                          NAICSCode  \\\n",
       "City                              Lender                                              \n",
       "2214 Uccello Dr                   Prestamos CDFI, LLC                      812112.0   \n",
       "22150                             Wells Fargo Bank, National Association   561730.0   \n",
       "2285 E. Flamingo Rd 101           Cache Valley Bank                        531311.0   \n",
       "229 TULIA                         Happy State Bank                         621210.0   \n",
       "2358 senter rd.                   Cross River Bank                         453998.0   \n",
       "23831                             Citibank, N.A.                           713940.0   \n",
       "2401 S East Ocean Blvd            Celtic Bank Corporation                  722320.0   \n",
       "2404 Cottonwood Ave               Prosperity Bank                          813990.0   \n",
       "25510 Zion Lutheran Cemetery Road Celtic Bank Corporation                       NaN   \n",
       "2610 De la vina street            American Riviera Bank                    453998.0   \n",
       "\n",
       "                                                                         RaceEthnicity  \\\n",
       "City                              Lender                                                 \n",
       "2214 Uccello Dr                   Prestamos CDFI, LLC                       Unanswered   \n",
       "22150                             Wells Fargo Bank, National Association    Unanswered   \n",
       "2285 E. Flamingo Rd 101           Cache Valley Bank                         Unanswered   \n",
       "229 TULIA                         Happy State Bank                          Unanswered   \n",
       "2358 senter rd.                   Cross River Bank                          Unanswered   \n",
       "23831                             Citibank, N.A.                            Unanswered   \n",
       "2401 S East Ocean Blvd            Celtic Bank Corporation                   Unanswered   \n",
       "2404 Cottonwood Ave               Prosperity Bank                           Unanswered   \n",
       "25510 Zion Lutheran Cemetery Road Celtic Bank Corporation                   Unanswered   \n",
       "2610 De la vina street            American Riviera Bank                     Unanswered   \n",
       "\n",
       "                                                                              Veteran  \\\n",
       "City                              Lender                                                \n",
       "2214 Uccello Dr                   Prestamos CDFI, LLC                      Unanswered   \n",
       "22150                             Wells Fargo Bank, National Association   Unanswered   \n",
       "2285 E. Flamingo Rd 101           Cache Valley Bank                       Non-Veteran   \n",
       "229 TULIA                         Happy State Bank                         Unanswered   \n",
       "2358 senter rd.                   Cross River Bank                         Unanswered   \n",
       "23831                             Citibank, N.A.                           Unanswered   \n",
       "2401 S East Ocean Blvd            Celtic Bank Corporation                  Unanswered   \n",
       "2404 Cottonwood Ave               Prosperity Bank                          Unanswered   \n",
       "25510 Zion Lutheran Cemetery Road Celtic Bank Corporation                  Unanswered   \n",
       "2610 De la vina street            American Riviera Bank                   Non-Veteran   \n",
       "\n",
       "                                                                              Zip  \n",
       "City                              Lender                                           \n",
       "2214 Uccello Dr                   Prestamos CDFI, LLC                     89138.0  \n",
       "22150                             Wells Fargo Bank, National Association  22150.0  \n",
       "2285 E. Flamingo Rd 101           Cache Valley Bank                       89119.0  \n",
       "229 TULIA                         Happy State Bank                        79088.0  \n",
       "2358 senter rd.                   Cross River Bank                        95112.0  \n",
       "23831                             Citibank, N.A.                          23831.0  \n",
       "2401 S East Ocean Blvd            Celtic Bank Corporation                 34996.0  \n",
       "2404 Cottonwood Ave               Prosperity Bank                         77404.0  \n",
       "25510 Zion Lutheran Cemetery Road Celtic Bank Corporation                 77375.0  \n",
       "2610 De la vina street            American Riviera Bank                   93105.0  "
      ]
     },
     "execution_count": 271,
     "metadata": {},
     "output_type": "execute_result"
    }
   ],
   "source": [
    "group=sba.groupby([\"City\",\"Lender\"])\n",
    "z=group.agg(np.max)\n",
    "z[100:110]"
   ]
  },
  {
   "cell_type": "code",
   "execution_count": 274,
   "metadata": {},
   "outputs": [
    {
     "data": {
      "text/plain": [
       "City             Lender                                 \n",
       "# 11-H           MBE Capital Partners                        20800.0\n",
       "# 306            Manufacturers and Traders Trust Company     83180.0\n",
       "#269             MBE Capital Partners                        20000.0\n",
       "#2D              WebBank                                     20832.0\n",
       "#303-B           Readycap Lending, LLC                        5500.0\n",
       "                                                              ...   \n",
       "zionsville       WebBank                                     16180.0\n",
       "zone Park        Cross River Bank                            37082.0\n",
       "zone park        Cross River Bank                              727.0\n",
       "zuni             Atlantic Union Bank                         44650.0\n",
       "{Peachtree City  Synovus Bank                               146457.3\n",
       "Name: LoanAmount, Length: 297596, dtype: float64"
      ]
     },
     "execution_count": 274,
     "metadata": {},
     "output_type": "execute_result"
    }
   ],
   "source": [
    "# CITIES WITH LENDERS HAVE MAXIMUM LOAN\n",
    "z['LoanAmount']"
   ]
  },
  {
   "cell_type": "markdown",
   "metadata": {},
   "source": [
    "Compare cities on the basis of loan amounts etc."
   ]
  },
  {
   "cell_type": "code",
   "execution_count": 275,
   "metadata": {},
   "outputs": [
    {
     "name": "stdout",
     "output_type": "stream",
     "text": [
      "   LoanAmount            City State      Zip  NAICSCode  \\\n",
      "0   149992.00      BELLINGHAM    WA  98225.0        NaN   \n",
      "0   149985.00        Richmond    VA  23224.0   561621.0   \n",
      "0   148440.00             NaN   NaN      NaN   339114.0   \n",
      "0   149989.00      Greenville    SC  29609.0   518210.0   \n",
      "0   149990.00   STATEN ISLAND    NY  10309.0   238340.0   \n",
      "0   149995.00         Peralta    NM  87042.0   238990.0   \n",
      "0   149992.00          LINDEN    NJ   7036.0   722410.0   \n",
      "0   149999.00       Las Vegas    NV  89119.0   722410.0   \n",
      "0   149800.00         BIG SKY    MT  59716.0   236220.0   \n",
      "0   149900.00    MOUNT VERNON    IN  47620.0   621210.0   \n",
      "0   149525.00        TAMUNING    GU  96913.0   999990.0   \n",
      "0   149998.30         DECATUR    GA  30033.0   621210.0   \n",
      "0   149999.00           TAMPA    FL  33612.0   624410.0   \n",
      "0   149999.00        Van Nuys    CA  91406.0   532111.0   \n",
      "0   149932.00   N LITTLE ROCK    AR  72120.0   561730.0   \n",
      "0   149927.00       FAIRBANKS    AK  99709.0   541110.0   \n",
      "0   149995.00    green valley    AZ  85614.0   621210.0   \n",
      "0   149978.00          PELHAM    AL  35124.0   561311.0   \n",
      "0   149997.07     COLLEYVILLE    TX  76034.0   621210.0   \n",
      "0   149995.00  Salt Lake City    UT  84102.0   541110.0   \n",
      "\n",
      "                      BusinessType RaceEthnicity      Gender     Veteran  \\\n",
      "0         Subchapter S Corporation    Unanswered  Unanswered  Unanswered   \n",
      "0                      Partnership    Unanswered  Unanswered  Unanswered   \n",
      "0                              NaN    Unanswered  Unanswered  Unanswered   \n",
      "0                      Corporation    Unanswered  Unanswered  Unanswered   \n",
      "0         Subchapter S Corporation    Unanswered  Unanswered  Unanswered   \n",
      "0  Limited  Liability Company(LLC)    Unanswered  Unanswered  Unanswered   \n",
      "0         Subchapter S Corporation    Unanswered  Unanswered  Unanswered   \n",
      "0  Limited  Liability Company(LLC)    Unanswered  Unanswered  Unanswered   \n",
      "0         Subchapter S Corporation    Unanswered  Unanswered  Unanswered   \n",
      "0                      Corporation         White  Male Owned  Unanswered   \n",
      "0                      Corporation    Unanswered  Unanswered  Unanswered   \n",
      "0  Limited  Liability Company(LLC)    Unanswered  Male Owned  Unanswered   \n",
      "0  Limited  Liability Company(LLC)    Unanswered  Unanswered  Unanswered   \n",
      "0  Limited  Liability Company(LLC)    Unanswered  Unanswered  Unanswered   \n",
      "0                      Corporation    Unanswered  Unanswered  Unanswered   \n",
      "0              Sole Proprietorship    Unanswered  Male Owned  Unanswered   \n",
      "0  Limited  Liability Company(LLC)    Unanswered  Unanswered  Unanswered   \n",
      "0  Limited  Liability Company(LLC)    Unanswered  Unanswered  Unanswered   \n",
      "0                      Corporation    Unanswered  Unanswered  Unanswered   \n",
      "0         Subchapter S Corporation    Unanswered  Unanswered  Unanswered   \n",
      "\n",
      "  NonProfit  JobsReported DateApproved  \\\n",
      "0       NaN          11.0   05/01/2020   \n",
      "0       NaN          12.0   04/15/2020   \n",
      "0       NaN          12.0   05/03/2020   \n",
      "0       NaN           7.0   04/27/2020   \n",
      "0       NaN           8.0   05/01/2020   \n",
      "0       NaN          21.0   04/30/2020   \n",
      "0       NaN          35.0   04/27/2020   \n",
      "0       NaN           NaN   04/30/2020   \n",
      "0       NaN          19.0   04/04/2020   \n",
      "0       NaN          15.0   04/04/2020   \n",
      "0       NaN          52.0   04/29/2020   \n",
      "0       NaN          14.0   04/14/2020   \n",
      "0       NaN           8.0   08/07/2020   \n",
      "0       NaN           0.0   07/30/2020   \n",
      "0       NaN          18.0   05/03/2020   \n",
      "0       NaN          11.0   04/08/2020   \n",
      "0       NaN          12.0   04/30/2020   \n",
      "0       NaN          17.0   05/07/2020   \n",
      "0       NaN          14.0   04/28/2020   \n",
      "0       NaN          12.0   04/30/2020   \n",
      "\n",
      "                                        Lender     CD  \n",
      "0    JPMorgan Chase Bank, National Association  WA-02  \n",
      "0      Manufacturers and Traders Trust Company  VA-07  \n",
      "0        Bank of America, National Association    NaN  \n",
      "0                          Silicon Valley Bank  SC-04  \n",
      "0    JPMorgan Chase Bank, National Association  NY-11  \n",
      "0                             Bank of the West  NM-02  \n",
      "0                                   Unity Bank  NJ-10  \n",
      "0                            Greater Nevada CU  NV-01  \n",
      "0                                 Glacier Bank  MT-00  \n",
      "0             The First National Bank of Carmi  IN-08  \n",
      "0                          First Hawaiian Bank  GU-00  \n",
      "0                          Newton Federal Bank  GA-04  \n",
      "0                                Kabbage, Inc.  FL-14  \n",
      "0                       Clearinghouse CDFI PPP  CA-30  \n",
      "0        Bank of America, National Association  AR-02  \n",
      "0                                Northrim Bank  AK-00  \n",
      "0                             Bank of the West  AZ-02  \n",
      "0  Truist Bank d/b/a Branch Banking & Trust Co  AL-06  \n",
      "0                             Bank of the West  TX-24  \n",
      "0                             Bank of the West  UT-02  \n"
     ]
    }
   ],
   "source": [
    "# printing data where the loan amount is maximum\n",
    "print(sba.loc[sba['LoanAmount'].idxmax()])"
   ]
  },
  {
   "cell_type": "code",
   "execution_count": 272,
   "metadata": {},
   "outputs": [],
   "source": [
    "#las vegas has the maximum amount of loan"
   ]
  },
  {
   "cell_type": "code",
   "execution_count": 276,
   "metadata": {},
   "outputs": [
    {
     "name": "stdout",
     "output_type": "stream",
     "text": [
      "        LoanAmount    City State      Zip  NAICSCode  \\\n",
      "390835        0.01   OCALA    FL  34475.0   811420.0   \n",
      "390835    11265.00  DUBLIN    CA  94568.0   811111.0   \n",
      "\n",
      "                           BusinessType RaceEthnicity      Gender  \\\n",
      "390835  Limited  Liability Company(LLC)         White  Male Owned   \n",
      "390835              Sole Proprietorship    Unanswered  Unanswered   \n",
      "\n",
      "            Veteran NonProfit  JobsReported DateApproved  \\\n",
      "390835  Non-Veteran       NaN           1.0   04/08/2020   \n",
      "390835   Unanswered       NaN           1.0   05/03/2020   \n",
      "\n",
      "                                       Lender     CD  \n",
      "390835                    Citizens First Bank  FL-03  \n",
      "390835  Bank of America, National Association  CA-15  \n"
     ]
    }
   ],
   "source": [
    "print(sba.loc[sba['LoanAmount'].idxmin()])"
   ]
  },
  {
   "cell_type": "code",
   "execution_count": 273,
   "metadata": {},
   "outputs": [],
   "source": [
    "#OCALA CTY has the minimum amount of loan amount"
   ]
  },
  {
   "cell_type": "code",
   "execution_count": 277,
   "metadata": {},
   "outputs": [
    {
     "data": {
      "text/plain": [
       "HOUSTON          30775\n",
       "NEW YORK         30234\n",
       "LOS ANGELES      28360\n",
       "MIAMI            27315\n",
       "BROOKLYN         21281\n",
       "                 ...  \n",
       "Sunrisw              1\n",
       "FEDERICKSBURG        1\n",
       "Buddlake             1\n",
       "dulles               1\n",
       "Humbel               1\n",
       "Name: City, Length: 34145, dtype: int64"
      ]
     },
     "execution_count": 277,
     "metadata": {},
     "output_type": "execute_result"
    }
   ],
   "source": [
    "sba['City'].value_counts()"
   ]
  },
  {
   "cell_type": "code",
   "execution_count": 278,
   "metadata": {},
   "outputs": [
    {
     "name": "stdout",
     "output_type": "stream",
     "text": [
      "       LoanAmount            City State      Zip  NAICSCode  \\\n",
      "15445    68602.00        ISSAQUAH    WA  98027.0   621210.0   \n",
      "15445    67400.00  VIRGINIA BEACH    VA  23452.0   541110.0   \n",
      "15445    42687.50       FORT MILL    SC  29708.0   541211.0   \n",
      "15445   108470.00        SYRACUSE    NY  13204.0   238220.0   \n",
      "15445     8796.61     Albuquerque    NM  87108.0   531311.0   \n",
      "15445    80500.00      PISCATAWAY    NJ   8854.0   531312.0   \n",
      "15445    24879.00       LAS VEGAS    NV  89131.0   722511.0   \n",
      "15445     9300.00           BUTTE    MT  59701.0   423930.0   \n",
      "15445    52800.00         SEYMOUR    IN  47274.0   541191.0   \n",
      "15445    78375.00       Jonesboro    GA  30236.0   236220.0   \n",
      "15445   110418.00         ORLANDO    FL  32809.0   452910.0   \n",
      "15445   125000.00       Irwindale    CA  91706.0   444190.0   \n",
      "15445    22707.00       PARAGOULD    AR  72450.0   722513.0   \n",
      "15445    53801.00          PEORIA    AZ  85382.0   621210.0   \n",
      "15445    41620.00      BIRMINGHAM    AL  35243.0   621210.0   \n",
      "15445   113142.00     San Antonio    TX  78223.0   812113.0   \n",
      "15445    33000.00  SALT LAKE CITY    UT  84121.0   621210.0   \n",
      "\n",
      "                          BusinessType RaceEthnicity        Gender  \\\n",
      "15445                      Corporation    Unanswered    Male Owned   \n",
      "15445         Subchapter S Corporation    Unanswered    Unanswered   \n",
      "15445  Limited  Liability Company(LLC)    Unanswered    Unanswered   \n",
      "15445         Subchapter S Corporation    Unanswered    Unanswered   \n",
      "15445  Limited  Liability Company(LLC)    Unanswered    Male Owned   \n",
      "15445  Limited  Liability Company(LLC)    Unanswered    Unanswered   \n",
      "15445  Limited  Liability Company(LLC)    Unanswered    Unanswered   \n",
      "15445  Limited  Liability Company(LLC)    Unanswered    Unanswered   \n",
      "15445  Limited  Liability Company(LLC)    Unanswered    Unanswered   \n",
      "15445  Limited  Liability Company(LLC)    Unanswered    Unanswered   \n",
      "15445                      Corporation    Unanswered    Unanswered   \n",
      "15445              Sole Proprietorship    Unanswered  Female Owned   \n",
      "15445              Sole Proprietorship    Unanswered    Unanswered   \n",
      "15445                      Cooperative    Unanswered    Male Owned   \n",
      "15445         Subchapter S Corporation    Unanswered    Unanswered   \n",
      "15445                      Corporation    Unanswered    Unanswered   \n",
      "15445                      Corporation    Unanswered    Unanswered   \n",
      "\n",
      "           Veteran NonProfit  JobsReported DateApproved  \\\n",
      "15445      Veteran       NaN         500.0   04/30/2020   \n",
      "15445   Unanswered       NaN           5.0   04/15/2020   \n",
      "15445   Unanswered       NaN           5.0   04/15/2020   \n",
      "15445   Unanswered       NaN           8.0   04/28/2020   \n",
      "15445   Unanswered       NaN           0.0   04/30/2020   \n",
      "15445   Unanswered       NaN           4.0   04/15/2020   \n",
      "15445   Unanswered       NaN           NaN   04/29/2020   \n",
      "15445   Unanswered       NaN           0.0   04/09/2020   \n",
      "15445   Unanswered       NaN           9.0   04/14/2020   \n",
      "15445   Unanswered       NaN          30.0   08/08/2020   \n",
      "15445   Unanswered       NaN           NaN   05/03/2020   \n",
      "15445  Non-Veteran       NaN           9.0   04/10/2020   \n",
      "15445   Unanswered       NaN           1.0   04/28/2020   \n",
      "15445      Veteran       NaN           0.0   05/01/2020   \n",
      "15445   Unanswered       NaN           4.0   04/27/2020   \n",
      "15445   Unanswered       NaN          16.0   05/12/2020   \n",
      "15445   Unanswered       NaN           3.0   04/13/2020   \n",
      "\n",
      "                                              Lender     CD  \n",
      "15445          Bank of America, National Association  WA-08  \n",
      "15445    Truist Bank d/b/a Branch Banking & Trust Co  VA-02  \n",
      "15445         South State Bank, National Association  SC-05  \n",
      "15445                                    Solvay Bank  NY-24  \n",
      "15445  Washington Federal Bank, National Association  NM-01  \n",
      "15445                         Peapack-Gladstone Bank  NJ-06  \n",
      "15445                                   Lexicon Bank  NV-04  \n",
      "15445                                   Glacier Bank  MT-00  \n",
      "15445                              Old National Bank  IN-09  \n",
      "15445                                     Optus Bank  GA-13  \n",
      "15445         Wells Fargo Bank, National Association  FL-10  \n",
      "15445                          Readycap Lending, LLC  CA-32  \n",
      "15445                              BancorpSouth Bank  AR-01  \n",
      "15445                                       BBVA USA  AZ-08  \n",
      "15445                                       BBVA USA  AL-06  \n",
      "15445                               Cross River Bank  TX-28  \n",
      "15445                           Mountain America FCU  UT-03  \n"
     ]
    }
   ],
   "source": [
    "print(sba.loc[sba['JobsReported'].idxmax()])"
   ]
  },
  {
   "cell_type": "code",
   "execution_count": 279,
   "metadata": {},
   "outputs": [],
   "source": [
    "#MAX JOBS REPORTED IN ISSAQUAH    WA"
   ]
  },
  {
   "cell_type": "code",
   "execution_count": 280,
   "metadata": {},
   "outputs": [
    {
     "name": "stdout",
     "output_type": "stream",
     "text": [
      "      LoanAmount           City State      Zip  NAICSCode  \\\n",
      "2984   124450.00  MERCER ISLAND    WA  98040.0   238210.0   \n",
      "2984   124000.00     MIDLOTHIAN    VA  23113.0   621340.0   \n",
      "2984   108527.00      KINGSTREE    SC  29556.0   621610.0   \n",
      "2984   140000.00       New York    NY  10007.0   711110.0   \n",
      "2984    72488.00    Albuquerque    NM  87107.0   441120.0   \n",
      "2984   130000.00       RIVERTON    NJ   8077.0   812210.0   \n",
      "2984    94507.00      LAS VEGAS    NV  89148.0   722511.0   \n",
      "2984    64800.00         BONNER    MT  59823.0   337110.0   \n",
      "2984   115437.00   INDIANAPOLIS    IN  46226.0   448190.0   \n",
      "2984   128700.00       NORCROSS    GA  30071.0   721110.0   \n",
      "2984   140300.00     CLEARWATER    FL  33765.0   423820.0   \n",
      "2984   144500.00    LOS ANGELES    CA  90012.0   541370.0   \n",
      "2984    87200.00     MONTICELLO    AR  71655.0   813110.0   \n",
      "2984    44678.75         Hoonah    AK  99829.0   238910.0   \n",
      "2984   117900.00        PHOENIX    AZ  85016.0   621999.0   \n",
      "2984   107020.00     BIRMINGHAM    AL  35208.0   813110.0   \n",
      "2984   141200.00         ODESSA    TX  79761.0   238220.0   \n",
      "2984   100000.00          OGDEN    UT  84405.0   621111.0   \n",
      "\n",
      "                         BusinessType RaceEthnicity      Gender      Veteran  \\\n",
      "2984                      Corporation    Unanswered  Unanswered   Unanswered   \n",
      "2984  Limited  Liability Company(LLC)    Unanswered  Unanswered   Unanswered   \n",
      "2984  Limited  Liability Company(LLC)    Unanswered  Unanswered   Unanswered   \n",
      "2984          Non-Profit Organization    Unanswered  Unanswered   Unanswered   \n",
      "2984  Limited  Liability Company(LLC)    Unanswered  Unanswered   Unanswered   \n",
      "2984                      Corporation         White  Male Owned  Non-Veteran   \n",
      "2984  Limited  Liability Company(LLC)      Hispanic  Male Owned  Non-Veteran   \n",
      "2984  Limited  Liability Company(LLC)         White  Male Owned  Non-Veteran   \n",
      "2984         Subchapter S Corporation    Unanswered  Male Owned   Unanswered   \n",
      "2984  Limited  Liability Company(LLC)    Unanswered  Unanswered   Unanswered   \n",
      "2984              Sole Proprietorship    Unanswered  Unanswered   Unanswered   \n",
      "2984  Limited  Liability Company(LLC)    Unanswered  Male Owned  Non-Veteran   \n",
      "2984          Non-Profit Organization    Unanswered  Unanswered   Unanswered   \n",
      "2984              Sole Proprietorship    Unanswered  Unanswered   Unanswered   \n",
      "2984  Limited  Liability Company(LLC)    Unanswered  Unanswered   Unanswered   \n",
      "2984          Non-Profit Organization    Unanswered  Unanswered   Unanswered   \n",
      "2984                      Corporation    Unanswered  Unanswered   Unanswered   \n",
      "2984  Limited  Liability Company(LLC)         White  Male Owned  Non-Veteran   \n",
      "\n",
      "     NonProfit  JobsReported DateApproved  \\\n",
      "2984       NaN           9.0   05/03/2020   \n",
      "2984       NaN          12.0   04/13/2020   \n",
      "2984       NaN          55.0   04/29/2020   \n",
      "2984         Y          12.0   04/11/2020   \n",
      "2984       NaN          12.0   04/10/2020   \n",
      "2984       NaN           0.0   04/10/2020   \n",
      "2984       NaN           9.0   04/28/2020   \n",
      "2984       NaN           7.0   04/13/2020   \n",
      "2984       NaN          16.0   05/01/2020   \n",
      "2984       NaN          34.0   04/14/2020   \n",
      "2984       NaN          15.0   04/10/2020   \n",
      "2984       NaN           6.0   04/13/2020   \n",
      "2984         Y           8.0   04/08/2020   \n",
      "2984       NaN          -6.0   08/06/2020   \n",
      "2984       NaN          28.0   04/28/2020   \n",
      "2984         Y          17.0   04/12/2020   \n",
      "2984       NaN          16.0   04/12/2020   \n",
      "2984       NaN          10.0   04/12/2020   \n",
      "\n",
      "                                           Lender     CD  \n",
      "2984        Bank of America, National Association  WA-09  \n",
      "2984                          Atlantic Union Bank  VA-07  \n",
      "2984       South State Bank, National Association  SC-06  \n",
      "2984    JPMorgan Chase Bank, National Association  NY-10  \n",
      "2984                                  Nusenda FCU  NM-01  \n",
      "2984                TD Bank, National Association  NJ-03  \n",
      "2984                           City National Bank  NV-03  \n",
      "2984                               TrailWest Bank  MT-00  \n",
      "2984    JPMorgan Chase Bank, National Association  IN-07  \n",
      "2984                        Quantum National Bank  GA-07  \n",
      "2984  Truist Bank d/b/a Branch Banking & Trust Co  FL-13  \n",
      "2984                                    FirstBank  CA-34  \n",
      "2984                   Union Bank & Trust Company  AR-04  \n",
      "2984                                Northrim Bank  AK-00  \n",
      "2984                            Cache Valley Bank  AZ-09  \n",
      "2984                          Citizens Trust Bank  AL-07  \n",
      "2984                               SouthWest Bank  TX-11  \n",
      "2984                            Wasatch Peaks FCU  UT-01  \n"
     ]
    }
   ],
   "source": [
    "print(sba.loc[sba['JobsReported'].idxmin()])"
   ]
  },
  {
   "cell_type": "code",
   "execution_count": 281,
   "metadata": {},
   "outputs": [],
   "source": [
    "# MINIMUM IN RIVERTON    NJ(new jersey)"
   ]
  },
  {
   "cell_type": "markdown",
   "metadata": {},
   "source": [
    "# BUSINESS TYPE:\n"
   ]
  },
  {
   "cell_type": "markdown",
   "metadata": {},
   "source": [
    " Number of jobs reported by different business types.\n",
    "\n"
   ]
  },
  {
   "cell_type": "code",
   "execution_count": 282,
   "metadata": {},
   "outputs": [
    {
     "data": {
      "text/plain": [
       "BusinessType\n",
       "Cooperative                              15161.0\n",
       "Corporation                            3711718.0\n",
       "Employee Stock Ownership Plan(ESOP)        703.0\n",
       "Independent Contractors                  94655.0\n",
       "Joint Venture                             1000.0\n",
       "Limited  Liability Company(LLC)        3267958.0\n",
       "Limited Liability Partnership            96449.0\n",
       "Non-Profit Childcare Center               9396.0\n",
       "Non-Profit Organization                 404515.0\n",
       "Partnership                             158987.0\n",
       "Professional Association                 70256.0\n",
       "Rollover as Business Start-Ups (ROB         14.0\n",
       "Self-Employed Individuals               198657.0\n",
       "Sole Proprietorship                     918975.0\n",
       "Subchapter S Corporation               1570809.0\n",
       "Tenant in Common                           172.0\n",
       "Trust                                     1907.0\n",
       "Name: JobsReported, dtype: float64"
      ]
     },
     "execution_count": 282,
     "metadata": {},
     "output_type": "execute_result"
    }
   ],
   "source": [
    "grouped = sba.groupby([\"BusinessType\"])\n",
    "z=grouped.agg(np.sum)\n",
    "z['JobsReported']"
   ]
  },
  {
   "cell_type": "markdown",
   "metadata": {},
   "source": [
    "Average Loan Amount per business type."
   ]
  },
  {
   "cell_type": "code",
   "execution_count": 284,
   "metadata": {},
   "outputs": [
    {
     "data": {
      "text/plain": [
       "BusinessType\n",
       "Cooperative                            45107.118424\n",
       "Corporation                            40948.746894\n",
       "Employee Stock Ownership Plan(ESOP)    39419.805866\n",
       "Independent Contractors                11151.869492\n",
       "Joint Venture                          38349.236468\n",
       "Limited  Liability Company(LLC)        34354.381057\n",
       "Limited Liability Partnership          45842.970116\n",
       "Non-Profit Childcare Center            55314.749689\n",
       "Non-Profit Organization                41660.814067\n",
       "Partnership                            40775.279942\n",
       "Professional Association               42367.476730\n",
       "Rollover as Business Start-Ups (ROB    24368.285714\n",
       "Self-Employed Individuals              13140.501500\n",
       "Sole Proprietorship                    17065.451538\n",
       "Subchapter S Corporation               41312.924797\n",
       "Tenant in Common                       23233.588547\n",
       "Trust                                  35938.254457\n",
       "Name: LoanAmount, dtype: float64"
      ]
     },
     "execution_count": 284,
     "metadata": {},
     "output_type": "execute_result"
    }
   ],
   "source": [
    "grouped = sba.groupby([\"BusinessType\"])\n",
    "z=grouped.agg(np.mean)\n",
    "z['LoanAmount']"
   ]
  },
  {
   "cell_type": "markdown",
   "metadata": {},
   "source": [
    "Compare loan amounts of Male Owned businesses VS Female Owned businesses "
   ]
  },
  {
   "cell_type": "code",
   "execution_count": 285,
   "metadata": {},
   "outputs": [
    {
     "data": {
      "text/plain": [
       "<matplotlib.axes._subplots.AxesSubplot at 0x26487f5fac8>"
      ]
     },
     "execution_count": 285,
     "metadata": {},
     "output_type": "execute_result"
    },
    {
     "data": {
      "image/png": "[encoded data removed]",
      "text/plain": [
       "<Figure size 432x288 with 1 Axes>"
      ]
     },
     "metadata": {
      "needs_background": "light"
     },
     "output_type": "display_data"
    }
   ],
   "source": [
    "sns.countplot(sba['Gender'])"
   ]
  },
  {
   "cell_type": "markdown",
   "metadata": {},
   "source": [
    "male vs female"
   ]
  },
  {
   "cell_type": "code",
   "execution_count": 286,
   "metadata": {},
   "outputs": [
    {
     "data": {
      "text/plain": [
       "Gender\n",
       "Female Owned    3.822957e+09\n",
       "Male Owned      1.435445e+10\n",
       "Name: LoanAmount, dtype: float64"
      ]
     },
     "execution_count": 286,
     "metadata": {},
     "output_type": "execute_result"
    }
   ],
   "source": [
    "grouped = sba.groupby([\"Gender\"])\n",
    "z=grouped.agg(np.sum)\n",
    "z['LoanAmount'][:2]"
   ]
  },
  {
   "cell_type": "markdown",
   "metadata": {},
   "source": [
    "male vs unanswered"
   ]
  },
  {
   "cell_type": "code",
   "execution_count": 287,
   "metadata": {},
   "outputs": [
    {
     "data": {
      "text/plain": [
       "Gender\n",
       "Male Owned    1.435445e+10\n",
       "Unanswered    6.382828e+10\n",
       "Name: LoanAmount, dtype: float64"
      ]
     },
     "execution_count": 287,
     "metadata": {},
     "output_type": "execute_result"
    }
   ],
   "source": [
    "z['LoanAmount'][1:3]"
   ]
  },
  {
   "cell_type": "markdown",
   "metadata": {},
   "source": [
    "male vs female vs unanswered"
   ]
  },
  {
   "cell_type": "code",
   "execution_count": 288,
   "metadata": {},
   "outputs": [
    {
     "data": {
      "text/plain": [
       "Gender\n",
       "Female Owned    3.822957e+09\n",
       "Male Owned      1.435445e+10\n",
       "Unanswered      6.382828e+10\n",
       "Name: LoanAmount, dtype: float64"
      ]
     },
     "execution_count": 288,
     "metadata": {},
     "output_type": "execute_result"
    }
   ],
   "source": [
    "z['LoanAmount']"
   ]
  },
  {
   "cell_type": "markdown",
   "metadata": {},
   "source": [
    "# • DATE APPROVED:\n",
    "o Find months in which high amount of loans were sanctioned.\n",
    "\n",
    "o Find how many jobs were reported in the past months and predict how many could be reported in the upcoming months.\n",
    "\n",
    "o Find total number of loans approved in each month and use it for Time Series Forecasting to predict how many loans would be approved in the upcoming months etc.\n",
    "\n",
    "You can come up with similar, creative analysis points, and show how well you can handle a large data-set. \n"
   ]
  },
  {
   "cell_type": "code",
   "execution_count": 290,
   "metadata": {},
   "outputs": [
    {
     "name": "stdout",
     "output_type": "stream",
     "text": [
      "<class 'pandas.core.frame.DataFrame'>\n",
      "Int64Index: 2521815 entries, 0 to 45516\n",
      "Data columns (total 14 columns):\n",
      "LoanAmount       float64\n",
      "City             object\n",
      "State            object\n",
      "Zip              float64\n",
      "NAICSCode        float64\n",
      "BusinessType     object\n",
      "RaceEthnicity    object\n",
      "Gender           object\n",
      "Veteran          object\n",
      "NonProfit        object\n",
      "JobsReported     float64\n",
      "DateApproved     object\n",
      "Lender           object\n",
      "CD               object\n",
      "dtypes: float64(4), object(10)\n",
      "memory usage: 328.6+ MB\n"
     ]
    }
   ],
   "source": [
    "sba.info()\n"
   ]
  },
  {
   "cell_type": "markdown",
   "metadata": {},
   "source": [
    "TO DATE TIME"
   ]
  },
  {
   "cell_type": "code",
   "execution_count": 291,
   "metadata": {},
   "outputs": [],
   "source": [
    "## converting into date time feature for more exploration amongst dataset \n",
    "sba['DateApproved'] = pd.to_datetime(sba['DateApproved'])\n",
    "sba['year']=sba['DateApproved'].dt.year\n",
    "sba['Month'] = sba['DateApproved'].dt.month\n",
    "sba['day'] = sba['DateApproved'].dt.day\n"
   ]
  },
  {
   "cell_type": "code",
   "execution_count": 292,
   "metadata": {},
   "outputs": [
    {
     "data": {
      "text/html": [
       "<div>\n",
       "<style scoped>\n",
       "    .dataframe tbody tr th:only-of-type {\n",
       "        vertical-align: middle;\n",
       "    }\n",
       "\n",
       "    .dataframe tbody tr th {\n",
       "        vertical-align: top;\n",
       "    }\n",
       "\n",
       "    .dataframe thead th {\n",
       "        text-align: right;\n",
       "    }\n",
       "</style>\n",
       "<table border=\"1\" class=\"dataframe\">\n",
       "  <thead>\n",
       "    <tr style=\"text-align: right;\">\n",
       "      <th></th>\n",
       "      <th>LoanAmount</th>\n",
       "      <th>City</th>\n",
       "      <th>State</th>\n",
       "      <th>Zip</th>\n",
       "      <th>NAICSCode</th>\n",
       "      <th>BusinessType</th>\n",
       "      <th>RaceEthnicity</th>\n",
       "      <th>Gender</th>\n",
       "      <th>Veteran</th>\n",
       "      <th>NonProfit</th>\n",
       "      <th>JobsReported</th>\n",
       "      <th>DateApproved</th>\n",
       "      <th>Lender</th>\n",
       "      <th>CD</th>\n",
       "      <th>year</th>\n",
       "      <th>Month</th>\n",
       "      <th>day</th>\n",
       "    </tr>\n",
       "  </thead>\n",
       "  <tbody>\n",
       "    <tr>\n",
       "      <td>0</td>\n",
       "      <td>149992.0</td>\n",
       "      <td>BELLINGHAM</td>\n",
       "      <td>WA</td>\n",
       "      <td>98225.0</td>\n",
       "      <td>NaN</td>\n",
       "      <td>Subchapter S Corporation</td>\n",
       "      <td>Unanswered</td>\n",
       "      <td>Unanswered</td>\n",
       "      <td>Unanswered</td>\n",
       "      <td>NaN</td>\n",
       "      <td>11.0</td>\n",
       "      <td>2020-05-01</td>\n",
       "      <td>JPMorgan Chase Bank, National Association</td>\n",
       "      <td>WA-02</td>\n",
       "      <td>2020</td>\n",
       "      <td>5</td>\n",
       "      <td>1</td>\n",
       "    </tr>\n",
       "    <tr>\n",
       "      <td>1</td>\n",
       "      <td>149980.0</td>\n",
       "      <td>SPOKANE VALLEY</td>\n",
       "      <td>WA</td>\n",
       "      <td>99216.0</td>\n",
       "      <td>621210.0</td>\n",
       "      <td>Limited  Liability Company(LLC)</td>\n",
       "      <td>Unanswered</td>\n",
       "      <td>Unanswered</td>\n",
       "      <td>Unanswered</td>\n",
       "      <td>NaN</td>\n",
       "      <td>12.0</td>\n",
       "      <td>2020-04-29</td>\n",
       "      <td>Banner Bank</td>\n",
       "      <td>WA-05</td>\n",
       "      <td>2020</td>\n",
       "      <td>4</td>\n",
       "      <td>29</td>\n",
       "    </tr>\n",
       "    <tr>\n",
       "      <td>2</td>\n",
       "      <td>149975.0</td>\n",
       "      <td>Kirkland</td>\n",
       "      <td>WA</td>\n",
       "      <td>98033.0</td>\n",
       "      <td>339999.0</td>\n",
       "      <td>Subchapter S Corporation</td>\n",
       "      <td>Unanswered</td>\n",
       "      <td>Unanswered</td>\n",
       "      <td>Unanswered</td>\n",
       "      <td>NaN</td>\n",
       "      <td>6.0</td>\n",
       "      <td>2020-04-16</td>\n",
       "      <td>Seattle Bank</td>\n",
       "      <td>WA-01</td>\n",
       "      <td>2020</td>\n",
       "      <td>4</td>\n",
       "      <td>16</td>\n",
       "    </tr>\n",
       "    <tr>\n",
       "      <td>3</td>\n",
       "      <td>149950.0</td>\n",
       "      <td>Port Orchard</td>\n",
       "      <td>WA</td>\n",
       "      <td>98367.0</td>\n",
       "      <td>238210.0</td>\n",
       "      <td>Limited  Liability Company(LLC)</td>\n",
       "      <td>Unanswered</td>\n",
       "      <td>Unanswered</td>\n",
       "      <td>Unanswered</td>\n",
       "      <td>NaN</td>\n",
       "      <td>10.0</td>\n",
       "      <td>2020-06-13</td>\n",
       "      <td>Kabbage, Inc.</td>\n",
       "      <td>WA-06</td>\n",
       "      <td>2020</td>\n",
       "      <td>6</td>\n",
       "      <td>13</td>\n",
       "    </tr>\n",
       "    <tr>\n",
       "      <td>4</td>\n",
       "      <td>149922.0</td>\n",
       "      <td>BURLINGTON</td>\n",
       "      <td>WA</td>\n",
       "      <td>98233.0</td>\n",
       "      <td>999990.0</td>\n",
       "      <td>Subchapter S Corporation</td>\n",
       "      <td>Unanswered</td>\n",
       "      <td>Unanswered</td>\n",
       "      <td>Unanswered</td>\n",
       "      <td>NaN</td>\n",
       "      <td>12.0</td>\n",
       "      <td>2020-05-03</td>\n",
       "      <td>Cross River Bank</td>\n",
       "      <td>WA-02</td>\n",
       "      <td>2020</td>\n",
       "      <td>5</td>\n",
       "      <td>3</td>\n",
       "    </tr>\n",
       "  </tbody>\n",
       "</table>\n",
       "</div>"
      ],
      "text/plain": [
       "   LoanAmount            City State      Zip  NAICSCode  \\\n",
       "0    149992.0      BELLINGHAM    WA  98225.0        NaN   \n",
       "1    149980.0  SPOKANE VALLEY    WA  99216.0   621210.0   \n",
       "2    149975.0        Kirkland    WA  98033.0   339999.0   \n",
       "3    149950.0    Port Orchard    WA  98367.0   238210.0   \n",
       "4    149922.0      BURLINGTON    WA  98233.0   999990.0   \n",
       "\n",
       "                      BusinessType RaceEthnicity      Gender     Veteran  \\\n",
       "0         Subchapter S Corporation    Unanswered  Unanswered  Unanswered   \n",
       "1  Limited  Liability Company(LLC)    Unanswered  Unanswered  Unanswered   \n",
       "2         Subchapter S Corporation    Unanswered  Unanswered  Unanswered   \n",
       "3  Limited  Liability Company(LLC)    Unanswered  Unanswered  Unanswered   \n",
       "4         Subchapter S Corporation    Unanswered  Unanswered  Unanswered   \n",
       "\n",
       "  NonProfit  JobsReported DateApproved  \\\n",
       "0       NaN          11.0   2020-05-01   \n",
       "1       NaN          12.0   2020-04-29   \n",
       "2       NaN           6.0   2020-04-16   \n",
       "3       NaN          10.0   2020-06-13   \n",
       "4       NaN          12.0   2020-05-03   \n",
       "\n",
       "                                      Lender     CD  year  Month  day  \n",
       "0  JPMorgan Chase Bank, National Association  WA-02  2020      5    1  \n",
       "1                                Banner Bank  WA-05  2020      4   29  \n",
       "2                               Seattle Bank  WA-01  2020      4   16  \n",
       "3                              Kabbage, Inc.  WA-06  2020      6   13  \n",
       "4                           Cross River Bank  WA-02  2020      5    3  "
      ]
     },
     "execution_count": 292,
     "metadata": {},
     "output_type": "execute_result"
    }
   ],
   "source": [
    "sba.head()"
   ]
  },
  {
   "cell_type": "code",
   "execution_count": 293,
   "metadata": {},
   "outputs": [
    {
     "data": {
      "text/plain": [
       "Index(['LoanAmount', 'City', 'State', 'Zip', 'NAICSCode', 'BusinessType',\n",
       "       'RaceEthnicity', 'Gender', 'Veteran', 'NonProfit', 'JobsReported',\n",
       "       'DateApproved', 'Lender', 'CD', 'year', 'Month', 'day'],\n",
       "      dtype='object')"
      ]
     },
     "execution_count": 293,
     "metadata": {},
     "output_type": "execute_result"
    }
   ],
   "source": [
    "sba.columns"
   ]
  },
  {
   "cell_type": "code",
   "execution_count": 294,
   "metadata": {},
   "outputs": [
    {
     "data": {
      "text/plain": [
       "<matplotlib.axes._subplots.AxesSubplot at 0x2649395f048>"
      ]
     },
     "execution_count": 294,
     "metadata": {},
     "output_type": "execute_result"
    },
    {
     "data": {
      "image/png": "[encoded data removed]",
      "text/plain": [
       "<Figure size 432x288 with 1 Axes>"
      ]
     },
     "metadata": {
      "needs_background": "light"
     },
     "output_type": "display_data"
    }
   ],
   "source": [
    "sns.countplot(sba['Month'])\n"
   ]
  },
  {
   "cell_type": "markdown",
   "metadata": {},
   "source": [
    "Find months in which high amount of loans were sanctioned."
   ]
  },
  {
   "cell_type": "code",
   "execution_count": 295,
   "metadata": {},
   "outputs": [
    {
     "data": {
      "text/html": [
       "<div>\n",
       "<style scoped>\n",
       "    .dataframe tbody tr th:only-of-type {\n",
       "        vertical-align: middle;\n",
       "    }\n",
       "\n",
       "    .dataframe tbody tr th {\n",
       "        vertical-align: top;\n",
       "    }\n",
       "\n",
       "    .dataframe thead th {\n",
       "        text-align: right;\n",
       "    }\n",
       "</style>\n",
       "<table border=\"1\" class=\"dataframe\">\n",
       "  <thead>\n",
       "    <tr style=\"text-align: right;\">\n",
       "      <th></th>\n",
       "      <th>LoanAmount</th>\n",
       "      <th>Zip</th>\n",
       "      <th>NAICSCode</th>\n",
       "      <th>RaceEthnicity</th>\n",
       "      <th>Gender</th>\n",
       "      <th>Veteran</th>\n",
       "      <th>JobsReported</th>\n",
       "      <th>DateApproved</th>\n",
       "      <th>Lender</th>\n",
       "      <th>year</th>\n",
       "      <th>day</th>\n",
       "    </tr>\n",
       "    <tr>\n",
       "      <th>Month</th>\n",
       "      <th></th>\n",
       "      <th></th>\n",
       "      <th></th>\n",
       "      <th></th>\n",
       "      <th></th>\n",
       "      <th></th>\n",
       "      <th></th>\n",
       "      <th></th>\n",
       "      <th></th>\n",
       "      <th></th>\n",
       "      <th></th>\n",
       "    </tr>\n",
       "  </thead>\n",
       "  <tbody>\n",
       "    <tr>\n",
       "      <td>4</td>\n",
       "      <td>149999.0</td>\n",
       "      <td>99950.0</td>\n",
       "      <td>999990.0</td>\n",
       "      <td>White</td>\n",
       "      <td>Unanswered</td>\n",
       "      <td>Veteran</td>\n",
       "      <td>500.0</td>\n",
       "      <td>2020-04-30</td>\n",
       "      <td>mBank</td>\n",
       "      <td>2020</td>\n",
       "      <td>30</td>\n",
       "    </tr>\n",
       "    <tr>\n",
       "      <td>5</td>\n",
       "      <td>149995.0</td>\n",
       "      <td>99950.0</td>\n",
       "      <td>999990.0</td>\n",
       "      <td>White</td>\n",
       "      <td>Unanswered</td>\n",
       "      <td>Veteran</td>\n",
       "      <td>500.0</td>\n",
       "      <td>2020-05-31</td>\n",
       "      <td>mBank</td>\n",
       "      <td>2020</td>\n",
       "      <td>31</td>\n",
       "    </tr>\n",
       "    <tr>\n",
       "      <td>6</td>\n",
       "      <td>149999.0</td>\n",
       "      <td>99929.0</td>\n",
       "      <td>928120.0</td>\n",
       "      <td>White</td>\n",
       "      <td>Unanswered</td>\n",
       "      <td>Veteran</td>\n",
       "      <td>500.0</td>\n",
       "      <td>2020-06-30</td>\n",
       "      <td>immito, LLC</td>\n",
       "      <td>2020</td>\n",
       "      <td>30</td>\n",
       "    </tr>\n",
       "    <tr>\n",
       "      <td>7</td>\n",
       "      <td>149999.0</td>\n",
       "      <td>99929.0</td>\n",
       "      <td>928120.0</td>\n",
       "      <td>White</td>\n",
       "      <td>Unanswered</td>\n",
       "      <td>Veteran</td>\n",
       "      <td>500.0</td>\n",
       "      <td>2020-07-31</td>\n",
       "      <td>immito, LLC</td>\n",
       "      <td>2020</td>\n",
       "      <td>31</td>\n",
       "    </tr>\n",
       "    <tr>\n",
       "      <td>8</td>\n",
       "      <td>149999.0</td>\n",
       "      <td>99929.0</td>\n",
       "      <td>928120.0</td>\n",
       "      <td>White</td>\n",
       "      <td>Unanswered</td>\n",
       "      <td>Veteran</td>\n",
       "      <td>500.0</td>\n",
       "      <td>2020-08-08</td>\n",
       "      <td>immito, LLC</td>\n",
       "      <td>2020</td>\n",
       "      <td>8</td>\n",
       "    </tr>\n",
       "  </tbody>\n",
       "</table>\n",
       "</div>"
      ],
      "text/plain": [
       "       LoanAmount      Zip  NAICSCode RaceEthnicity      Gender  Veteran  \\\n",
       "Month                                                                      \n",
       "4        149999.0  99950.0   999990.0         White  Unanswered  Veteran   \n",
       "5        149995.0  99950.0   999990.0         White  Unanswered  Veteran   \n",
       "6        149999.0  99929.0   928120.0         White  Unanswered  Veteran   \n",
       "7        149999.0  99929.0   928120.0         White  Unanswered  Veteran   \n",
       "8        149999.0  99929.0   928120.0         White  Unanswered  Veteran   \n",
       "\n",
       "       JobsReported DateApproved       Lender  year  day  \n",
       "Month                                                     \n",
       "4             500.0   2020-04-30        mBank  2020   30  \n",
       "5             500.0   2020-05-31        mBank  2020   31  \n",
       "6             500.0   2020-06-30  immito, LLC  2020   30  \n",
       "7             500.0   2020-07-31  immito, LLC  2020   31  \n",
       "8             500.0   2020-08-08  immito, LLC  2020    8  "
      ]
     },
     "execution_count": 295,
     "metadata": {},
     "output_type": "execute_result"
    }
   ],
   "source": [
    "grouped = sba.groupby([\"Month\"])\n",
    "z=grouped.agg(np.max)\n",
    "z"
   ]
  },
  {
   "cell_type": "code",
   "execution_count": 296,
   "metadata": {},
   "outputs": [
    {
     "name": "stdout",
     "output_type": "stream",
     "text": [
      "   LoanAmount            City State      Zip  NAICSCode  \\\n",
      "0   149992.00      BELLINGHAM    WA  98225.0        NaN   \n",
      "0   149985.00        Richmond    VA  23224.0   561621.0   \n",
      "0   148440.00             NaN   NaN      NaN   339114.0   \n",
      "0   149989.00      Greenville    SC  29609.0   518210.0   \n",
      "0   149990.00   STATEN ISLAND    NY  10309.0   238340.0   \n",
      "0   149995.00         Peralta    NM  87042.0   238990.0   \n",
      "0   149992.00          LINDEN    NJ   7036.0   722410.0   \n",
      "0   149999.00       Las Vegas    NV  89119.0   722410.0   \n",
      "0   149800.00         BIG SKY    MT  59716.0   236220.0   \n",
      "0   149900.00    MOUNT VERNON    IN  47620.0   621210.0   \n",
      "0   149525.00        TAMUNING    GU  96913.0   999990.0   \n",
      "0   149998.30         DECATUR    GA  30033.0   621210.0   \n",
      "0   149999.00           TAMPA    FL  33612.0   624410.0   \n",
      "0   149999.00        Van Nuys    CA  91406.0   532111.0   \n",
      "0   149932.00   N LITTLE ROCK    AR  72120.0   561730.0   \n",
      "0   149927.00       FAIRBANKS    AK  99709.0   541110.0   \n",
      "0   149995.00    green valley    AZ  85614.0   621210.0   \n",
      "0   149978.00          PELHAM    AL  35124.0   561311.0   \n",
      "0   149997.07     COLLEYVILLE    TX  76034.0   621210.0   \n",
      "0   149995.00  Salt Lake City    UT  84102.0   541110.0   \n",
      "\n",
      "                      BusinessType RaceEthnicity      Gender     Veteran  \\\n",
      "0         Subchapter S Corporation    Unanswered  Unanswered  Unanswered   \n",
      "0                      Partnership    Unanswered  Unanswered  Unanswered   \n",
      "0                              NaN    Unanswered  Unanswered  Unanswered   \n",
      "0                      Corporation    Unanswered  Unanswered  Unanswered   \n",
      "0         Subchapter S Corporation    Unanswered  Unanswered  Unanswered   \n",
      "0  Limited  Liability Company(LLC)    Unanswered  Unanswered  Unanswered   \n",
      "0         Subchapter S Corporation    Unanswered  Unanswered  Unanswered   \n",
      "0  Limited  Liability Company(LLC)    Unanswered  Unanswered  Unanswered   \n",
      "0         Subchapter S Corporation    Unanswered  Unanswered  Unanswered   \n",
      "0                      Corporation         White  Male Owned  Unanswered   \n",
      "0                      Corporation    Unanswered  Unanswered  Unanswered   \n",
      "0  Limited  Liability Company(LLC)    Unanswered  Male Owned  Unanswered   \n",
      "0  Limited  Liability Company(LLC)    Unanswered  Unanswered  Unanswered   \n",
      "0  Limited  Liability Company(LLC)    Unanswered  Unanswered  Unanswered   \n",
      "0                      Corporation    Unanswered  Unanswered  Unanswered   \n",
      "0              Sole Proprietorship    Unanswered  Male Owned  Unanswered   \n",
      "0  Limited  Liability Company(LLC)    Unanswered  Unanswered  Unanswered   \n",
      "0  Limited  Liability Company(LLC)    Unanswered  Unanswered  Unanswered   \n",
      "0                      Corporation    Unanswered  Unanswered  Unanswered   \n",
      "0         Subchapter S Corporation    Unanswered  Unanswered  Unanswered   \n",
      "\n",
      "  NonProfit  JobsReported DateApproved  \\\n",
      "0       NaN          11.0   2020-05-01   \n",
      "0       NaN          12.0   2020-04-15   \n",
      "0       NaN          12.0   2020-05-03   \n",
      "0       NaN           7.0   2020-04-27   \n",
      "0       NaN           8.0   2020-05-01   \n",
      "0       NaN          21.0   2020-04-30   \n",
      "0       NaN          35.0   2020-04-27   \n",
      "0       NaN           NaN   2020-04-30   \n",
      "0       NaN          19.0   2020-04-04   \n",
      "0       NaN          15.0   2020-04-04   \n",
      "0       NaN          52.0   2020-04-29   \n",
      "0       NaN          14.0   2020-04-14   \n",
      "0       NaN           8.0   2020-08-07   \n",
      "0       NaN           0.0   2020-07-30   \n",
      "0       NaN          18.0   2020-05-03   \n",
      "0       NaN          11.0   2020-04-08   \n",
      "0       NaN          12.0   2020-04-30   \n",
      "0       NaN          17.0   2020-05-07   \n",
      "0       NaN          14.0   2020-04-28   \n",
      "0       NaN          12.0   2020-04-30   \n",
      "\n",
      "                                        Lender     CD  year  Month  day  \n",
      "0    JPMorgan Chase Bank, National Association  WA-02  2020      5    1  \n",
      "0      Manufacturers and Traders Trust Company  VA-07  2020      4   15  \n",
      "0        Bank of America, National Association    NaN  2020      5    3  \n",
      "0                          Silicon Valley Bank  SC-04  2020      4   27  \n",
      "0    JPMorgan Chase Bank, National Association  NY-11  2020      5    1  \n",
      "0                             Bank of the West  NM-02  2020      4   30  \n",
      "0                                   Unity Bank  NJ-10  2020      4   27  \n",
      "0                            Greater Nevada CU  NV-01  2020      4   30  \n",
      "0                                 Glacier Bank  MT-00  2020      4    4  \n",
      "0             The First National Bank of Carmi  IN-08  2020      4    4  \n",
      "0                          First Hawaiian Bank  GU-00  2020      4   29  \n",
      "0                          Newton Federal Bank  GA-04  2020      4   14  \n",
      "0                                Kabbage, Inc.  FL-14  2020      8    7  \n",
      "0                       Clearinghouse CDFI PPP  CA-30  2020      7   30  \n",
      "0        Bank of America, National Association  AR-02  2020      5    3  \n",
      "0                                Northrim Bank  AK-00  2020      4    8  \n",
      "0                             Bank of the West  AZ-02  2020      4   30  \n",
      "0  Truist Bank d/b/a Branch Banking & Trust Co  AL-06  2020      5    7  \n",
      "0                             Bank of the West  TX-24  2020      4   28  \n",
      "0                             Bank of the West  UT-02  2020      4   30  \n"
     ]
    }
   ],
   "source": [
    "# printing data where the loan is MAXIMUM \n",
    "print(sba.loc[sba['LoanAmount'].idxmax()])\n"
   ]
  },
  {
   "cell_type": "markdown",
   "metadata": {},
   "source": [
    "# Find how many jobs were reported in the past months and predict how many could be reported in the upcoming months."
   ]
  },
  {
   "cell_type": "code",
   "execution_count": 299,
   "metadata": {},
   "outputs": [
    {
     "data": {
      "text/html": [
       "<div>\n",
       "<style scoped>\n",
       "    .dataframe tbody tr th:only-of-type {\n",
       "        vertical-align: middle;\n",
       "    }\n",
       "\n",
       "    .dataframe tbody tr th {\n",
       "        vertical-align: top;\n",
       "    }\n",
       "\n",
       "    .dataframe thead th {\n",
       "        text-align: right;\n",
       "    }\n",
       "</style>\n",
       "<table border=\"1\" class=\"dataframe\">\n",
       "  <thead>\n",
       "    <tr style=\"text-align: right;\">\n",
       "      <th></th>\n",
       "      <th>LoanAmount</th>\n",
       "      <th>City</th>\n",
       "      <th>State</th>\n",
       "      <th>Zip</th>\n",
       "      <th>NAICSCode</th>\n",
       "      <th>BusinessType</th>\n",
       "      <th>RaceEthnicity</th>\n",
       "      <th>Gender</th>\n",
       "      <th>Veteran</th>\n",
       "      <th>NonProfit</th>\n",
       "      <th>JobsReported</th>\n",
       "      <th>DateApproved</th>\n",
       "      <th>Lender</th>\n",
       "      <th>CD</th>\n",
       "      <th>year</th>\n",
       "      <th>Month</th>\n",
       "      <th>day</th>\n",
       "    </tr>\n",
       "  </thead>\n",
       "  <tbody>\n",
       "    <tr>\n",
       "      <td>0</td>\n",
       "      <td>149992.0</td>\n",
       "      <td>BELLINGHAM</td>\n",
       "      <td>WA</td>\n",
       "      <td>98225.0</td>\n",
       "      <td>NaN</td>\n",
       "      <td>Subchapter S Corporation</td>\n",
       "      <td>Unanswered</td>\n",
       "      <td>Unanswered</td>\n",
       "      <td>Unanswered</td>\n",
       "      <td>NaN</td>\n",
       "      <td>11.0</td>\n",
       "      <td>2020-05-01</td>\n",
       "      <td>JPMorgan Chase Bank, National Association</td>\n",
       "      <td>WA-02</td>\n",
       "      <td>2020</td>\n",
       "      <td>5</td>\n",
       "      <td>1</td>\n",
       "    </tr>\n",
       "    <tr>\n",
       "      <td>1</td>\n",
       "      <td>149980.0</td>\n",
       "      <td>SPOKANE VALLEY</td>\n",
       "      <td>WA</td>\n",
       "      <td>99216.0</td>\n",
       "      <td>621210.0</td>\n",
       "      <td>Limited  Liability Company(LLC)</td>\n",
       "      <td>Unanswered</td>\n",
       "      <td>Unanswered</td>\n",
       "      <td>Unanswered</td>\n",
       "      <td>NaN</td>\n",
       "      <td>12.0</td>\n",
       "      <td>2020-04-29</td>\n",
       "      <td>Banner Bank</td>\n",
       "      <td>WA-05</td>\n",
       "      <td>2020</td>\n",
       "      <td>4</td>\n",
       "      <td>29</td>\n",
       "    </tr>\n",
       "  </tbody>\n",
       "</table>\n",
       "</div>"
      ],
      "text/plain": [
       "   LoanAmount            City State      Zip  NAICSCode  \\\n",
       "0    149992.0      BELLINGHAM    WA  98225.0        NaN   \n",
       "1    149980.0  SPOKANE VALLEY    WA  99216.0   621210.0   \n",
       "\n",
       "                      BusinessType RaceEthnicity      Gender     Veteran  \\\n",
       "0         Subchapter S Corporation    Unanswered  Unanswered  Unanswered   \n",
       "1  Limited  Liability Company(LLC)    Unanswered  Unanswered  Unanswered   \n",
       "\n",
       "  NonProfit  JobsReported DateApproved  \\\n",
       "0       NaN          11.0   2020-05-01   \n",
       "1       NaN          12.0   2020-04-29   \n",
       "\n",
       "                                      Lender     CD  year  Month  day  \n",
       "0  JPMorgan Chase Bank, National Association  WA-02  2020      5    1  \n",
       "1                                Banner Bank  WA-05  2020      4   29  "
      ]
     },
     "execution_count": 299,
     "metadata": {},
     "output_type": "execute_result"
    }
   ],
   "source": [
    "sba.head(2)"
   ]
  },
  {
   "cell_type": "code",
   "execution_count": 300,
   "metadata": {},
   "outputs": [
    {
     "data": {
      "text/html": [
       "<div>\n",
       "<style scoped>\n",
       "    .dataframe tbody tr th:only-of-type {\n",
       "        vertical-align: middle;\n",
       "    }\n",
       "\n",
       "    .dataframe tbody tr th {\n",
       "        vertical-align: top;\n",
       "    }\n",
       "\n",
       "    .dataframe thead th {\n",
       "        text-align: right;\n",
       "    }\n",
       "</style>\n",
       "<table border=\"1\" class=\"dataframe\">\n",
       "  <thead>\n",
       "    <tr style=\"text-align: right;\">\n",
       "      <th></th>\n",
       "      <th>LoanAmount</th>\n",
       "      <th>City</th>\n",
       "      <th>State</th>\n",
       "      <th>Zip</th>\n",
       "      <th>NAICSCode</th>\n",
       "      <th>BusinessType</th>\n",
       "      <th>RaceEthnicity</th>\n",
       "      <th>Gender</th>\n",
       "      <th>Veteran</th>\n",
       "      <th>NonProfit</th>\n",
       "      <th>JobsReported</th>\n",
       "      <th>DateApproved</th>\n",
       "      <th>Lender</th>\n",
       "      <th>CD</th>\n",
       "      <th>year</th>\n",
       "      <th>Month</th>\n",
       "      <th>day</th>\n",
       "    </tr>\n",
       "  </thead>\n",
       "  <tbody>\n",
       "    <tr>\n",
       "      <td>45515</td>\n",
       "      <td>118.0</td>\n",
       "      <td>RANDOLPH</td>\n",
       "      <td>UT</td>\n",
       "      <td>84064.0</td>\n",
       "      <td>711510.0</td>\n",
       "      <td>Sole Proprietorship</td>\n",
       "      <td>Unanswered</td>\n",
       "      <td>Female Owned</td>\n",
       "      <td>Unanswered</td>\n",
       "      <td>NaN</td>\n",
       "      <td>2.0</td>\n",
       "      <td>2020-04-28</td>\n",
       "      <td>Cache Valley Bank</td>\n",
       "      <td>UT-01</td>\n",
       "      <td>2020</td>\n",
       "      <td>4</td>\n",
       "      <td>28</td>\n",
       "    </tr>\n",
       "    <tr>\n",
       "      <td>45516</td>\n",
       "      <td>100.0</td>\n",
       "      <td>OREM</td>\n",
       "      <td>UT</td>\n",
       "      <td>84058.0</td>\n",
       "      <td>541219.0</td>\n",
       "      <td>Limited  Liability Company(LLC)</td>\n",
       "      <td>Unanswered</td>\n",
       "      <td>Unanswered</td>\n",
       "      <td>Unanswered</td>\n",
       "      <td>NaN</td>\n",
       "      <td>1.0</td>\n",
       "      <td>2020-04-14</td>\n",
       "      <td>Mountain America FCU</td>\n",
       "      <td>UT-03</td>\n",
       "      <td>2020</td>\n",
       "      <td>4</td>\n",
       "      <td>14</td>\n",
       "    </tr>\n",
       "  </tbody>\n",
       "</table>\n",
       "</div>"
      ],
      "text/plain": [
       "       LoanAmount      City State      Zip  NAICSCode  \\\n",
       "45515       118.0  RANDOLPH    UT  84064.0   711510.0   \n",
       "45516       100.0      OREM    UT  84058.0   541219.0   \n",
       "\n",
       "                          BusinessType RaceEthnicity        Gender  \\\n",
       "45515              Sole Proprietorship    Unanswered  Female Owned   \n",
       "45516  Limited  Liability Company(LLC)    Unanswered    Unanswered   \n",
       "\n",
       "          Veteran NonProfit  JobsReported DateApproved                Lender  \\\n",
       "45515  Unanswered       NaN           2.0   2020-04-28     Cache Valley Bank   \n",
       "45516  Unanswered       NaN           1.0   2020-04-14  Mountain America FCU   \n",
       "\n",
       "          CD  year  Month  day  \n",
       "45515  UT-01  2020      4   28  \n",
       "45516  UT-03  2020      4   14  "
      ]
     },
     "execution_count": 300,
     "metadata": {},
     "output_type": "execute_result"
    }
   ],
   "source": [
    "sba.tail(2)"
   ]
  },
  {
   "cell_type": "code",
   "execution_count": 301,
   "metadata": {},
   "outputs": [
    {
     "data": {
      "text/plain": [
       "10530418.0"
      ]
     },
     "execution_count": 301,
     "metadata": {},
     "output_type": "execute_result"
    }
   ],
   "source": [
    "sba['JobsReported'].sum()"
   ]
  },
  {
   "cell_type": "code",
   "execution_count": 302,
   "metadata": {},
   "outputs": [],
   "source": [
    "data=sba.drop(['City','Zip','DateApproved','CD','year','Month','day'],axis=1)"
   ]
  },
  {
   "cell_type": "code",
   "execution_count": 303,
   "metadata": {},
   "outputs": [
    {
     "data": {
      "text/html": [
       "<div>\n",
       "<style scoped>\n",
       "    .dataframe tbody tr th:only-of-type {\n",
       "        vertical-align: middle;\n",
       "    }\n",
       "\n",
       "    .dataframe tbody tr th {\n",
       "        vertical-align: top;\n",
       "    }\n",
       "\n",
       "    .dataframe thead th {\n",
       "        text-align: right;\n",
       "    }\n",
       "</style>\n",
       "<table border=\"1\" class=\"dataframe\">\n",
       "  <thead>\n",
       "    <tr style=\"text-align: right;\">\n",
       "      <th></th>\n",
       "      <th>LoanAmount</th>\n",
       "      <th>State</th>\n",
       "      <th>NAICSCode</th>\n",
       "      <th>BusinessType</th>\n",
       "      <th>RaceEthnicity</th>\n",
       "      <th>Gender</th>\n",
       "      <th>Veteran</th>\n",
       "      <th>NonProfit</th>\n",
       "      <th>JobsReported</th>\n",
       "      <th>Lender</th>\n",
       "    </tr>\n",
       "  </thead>\n",
       "  <tbody>\n",
       "    <tr>\n",
       "      <td>0</td>\n",
       "      <td>149992.0</td>\n",
       "      <td>WA</td>\n",
       "      <td>NaN</td>\n",
       "      <td>Subchapter S Corporation</td>\n",
       "      <td>Unanswered</td>\n",
       "      <td>Unanswered</td>\n",
       "      <td>Unanswered</td>\n",
       "      <td>NaN</td>\n",
       "      <td>11.0</td>\n",
       "      <td>JPMorgan Chase Bank, National Association</td>\n",
       "    </tr>\n",
       "    <tr>\n",
       "      <td>1</td>\n",
       "      <td>149980.0</td>\n",
       "      <td>WA</td>\n",
       "      <td>621210.0</td>\n",
       "      <td>Limited  Liability Company(LLC)</td>\n",
       "      <td>Unanswered</td>\n",
       "      <td>Unanswered</td>\n",
       "      <td>Unanswered</td>\n",
       "      <td>NaN</td>\n",
       "      <td>12.0</td>\n",
       "      <td>Banner Bank</td>\n",
       "    </tr>\n",
       "    <tr>\n",
       "      <td>2</td>\n",
       "      <td>149975.0</td>\n",
       "      <td>WA</td>\n",
       "      <td>339999.0</td>\n",
       "      <td>Subchapter S Corporation</td>\n",
       "      <td>Unanswered</td>\n",
       "      <td>Unanswered</td>\n",
       "      <td>Unanswered</td>\n",
       "      <td>NaN</td>\n",
       "      <td>6.0</td>\n",
       "      <td>Seattle Bank</td>\n",
       "    </tr>\n",
       "    <tr>\n",
       "      <td>3</td>\n",
       "      <td>149950.0</td>\n",
       "      <td>WA</td>\n",
       "      <td>238210.0</td>\n",
       "      <td>Limited  Liability Company(LLC)</td>\n",
       "      <td>Unanswered</td>\n",
       "      <td>Unanswered</td>\n",
       "      <td>Unanswered</td>\n",
       "      <td>NaN</td>\n",
       "      <td>10.0</td>\n",
       "      <td>Kabbage, Inc.</td>\n",
       "    </tr>\n",
       "    <tr>\n",
       "      <td>4</td>\n",
       "      <td>149922.0</td>\n",
       "      <td>WA</td>\n",
       "      <td>999990.0</td>\n",
       "      <td>Subchapter S Corporation</td>\n",
       "      <td>Unanswered</td>\n",
       "      <td>Unanswered</td>\n",
       "      <td>Unanswered</td>\n",
       "      <td>NaN</td>\n",
       "      <td>12.0</td>\n",
       "      <td>Cross River Bank</td>\n",
       "    </tr>\n",
       "  </tbody>\n",
       "</table>\n",
       "</div>"
      ],
      "text/plain": [
       "   LoanAmount State  NAICSCode                     BusinessType RaceEthnicity  \\\n",
       "0    149992.0    WA        NaN         Subchapter S Corporation    Unanswered   \n",
       "1    149980.0    WA   621210.0  Limited  Liability Company(LLC)    Unanswered   \n",
       "2    149975.0    WA   339999.0         Subchapter S Corporation    Unanswered   \n",
       "3    149950.0    WA   238210.0  Limited  Liability Company(LLC)    Unanswered   \n",
       "4    149922.0    WA   999990.0         Subchapter S Corporation    Unanswered   \n",
       "\n",
       "       Gender     Veteran NonProfit  JobsReported  \\\n",
       "0  Unanswered  Unanswered       NaN          11.0   \n",
       "1  Unanswered  Unanswered       NaN          12.0   \n",
       "2  Unanswered  Unanswered       NaN           6.0   \n",
       "3  Unanswered  Unanswered       NaN          10.0   \n",
       "4  Unanswered  Unanswered       NaN          12.0   \n",
       "\n",
       "                                      Lender  \n",
       "0  JPMorgan Chase Bank, National Association  \n",
       "1                                Banner Bank  \n",
       "2                               Seattle Bank  \n",
       "3                              Kabbage, Inc.  \n",
       "4                           Cross River Bank  "
      ]
     },
     "execution_count": 303,
     "metadata": {},
     "output_type": "execute_result"
    }
   ],
   "source": [
    "data.head()"
   ]
  },
  {
   "cell_type": "code",
   "execution_count": 304,
   "metadata": {},
   "outputs": [
    {
     "data": {
      "text/plain": [
       "LoanAmount             0\n",
       "State                149\n",
       "NAICSCode          80446\n",
       "BusinessType        1729\n",
       "RaceEthnicity          0\n",
       "Gender                 0\n",
       "Veteran                0\n",
       "NonProfit        2458525\n",
       "JobsReported      160900\n",
       "Lender                 0\n",
       "dtype: int64"
      ]
     },
     "execution_count": 304,
     "metadata": {},
     "output_type": "execute_result"
    }
   ],
   "source": [
    "data.isnull().sum()"
   ]
  },
  {
   "cell_type": "code",
   "execution_count": 307,
   "metadata": {},
   "outputs": [],
   "source": [
    "data['State'].fillna(data['State'].mode(),inplace=True)\n",
    "data['BusinessType'].fillna(data['BusinessType'].mode(),inplace=True)\n",
    "data['NAICSCode'].fillna(data['NAICSCode'].mode(),inplace=True)"
   ]
  },
  {
   "cell_type": "code",
   "execution_count": 308,
   "metadata": {},
   "outputs": [],
   "source": [
    "data['NonProfit'].replace(np.nan,\"N\",inplace=True)\n",
    "data['JobsReported'].fillna(data['JobsReported'].mean(),inplace=True)"
   ]
  },
  {
   "cell_type": "code",
   "execution_count": 309,
   "metadata": {},
   "outputs": [
    {
     "name": "stdout",
     "output_type": "stream",
     "text": [
      "<class 'pandas.core.frame.DataFrame'>\n",
      "Int64Index: 2521815 entries, 0 to 45516\n",
      "Data columns (total 10 columns):\n",
      "LoanAmount       float64\n",
      "State            object\n",
      "NAICSCode        float64\n",
      "BusinessType     object\n",
      "RaceEthnicity    object\n",
      "Gender           object\n",
      "Veteran          object\n",
      "NonProfit        object\n",
      "JobsReported     float64\n",
      "Lender           object\n",
      "dtypes: float64(3), object(7)\n",
      "memory usage: 251.6+ MB\n"
     ]
    }
   ],
   "source": [
    "data.info()"
   ]
  },
  {
   "cell_type": "code",
   "execution_count": 319,
   "metadata": {},
   "outputs": [],
   "source": [
    "data['State'].fillna(data.State.mode(), inplace=True)"
   ]
  },
  {
   "cell_type": "code",
   "execution_count": 320,
   "metadata": {},
   "outputs": [
    {
     "data": {
      "text/plain": [
       "array(['WA', 'VA', 'CA', nan, 'FI', 'AE', 'SC', 'NY', 'NM', 'NJ', 'NV',\n",
       "       'MT', 'IN', 'GU', 'GA', 'FL', 'AR', 'AK', 'AZ', 'AL', 'TX', 'UT'],\n",
       "      dtype=object)"
      ]
     },
     "execution_count": 320,
     "metadata": {},
     "output_type": "execute_result"
    }
   ],
   "source": [
    "data['State'].unique()"
   ]
  },
  {
   "cell_type": "markdown",
   "metadata": {},
   "source": [
    "Find total number of loans approved in each month and use it for Time Series Forecasting to predict how many loans would be approved in the upcoming months etc"
   ]
  },
  {
   "cell_type": "markdown",
   "metadata": {},
   "source": [
    "\"DateApproved\",\"LoanAmount\",\"City\",\"State\",\"Zip\",\"NAICSCode\",\"BusinessType\",\"RaceEthnicity\",\"Gender\",\"Veteran\",\"NonProfit\",\"JobsReported\"])\n",
    "group.head("
   ]
  },
  {
   "cell_type": "code",
   "execution_count": 356,
   "metadata": {},
   "outputs": [
    {
     "data": {
      "text/html": [
       "<div>\n",
       "<style scoped>\n",
       "    .dataframe tbody tr th:only-of-type {\n",
       "        vertical-align: middle;\n",
       "    }\n",
       "\n",
       "    .dataframe tbody tr th {\n",
       "        vertical-align: top;\n",
       "    }\n",
       "\n",
       "    .dataframe thead th {\n",
       "        text-align: right;\n",
       "    }\n",
       "</style>\n",
       "<table border=\"1\" class=\"dataframe\">\n",
       "  <thead>\n",
       "    <tr style=\"text-align: right;\">\n",
       "      <th></th>\n",
       "      <th>Month</th>\n",
       "      <th>LoanAmount</th>\n",
       "    </tr>\n",
       "  </thead>\n",
       "  <tbody>\n",
       "    <tr>\n",
       "      <td>0</td>\n",
       "      <td>5</td>\n",
       "      <td>149992.00</td>\n",
       "    </tr>\n",
       "    <tr>\n",
       "      <td>1</td>\n",
       "      <td>4</td>\n",
       "      <td>149980.00</td>\n",
       "    </tr>\n",
       "    <tr>\n",
       "      <td>2</td>\n",
       "      <td>4</td>\n",
       "      <td>149975.00</td>\n",
       "    </tr>\n",
       "    <tr>\n",
       "      <td>3</td>\n",
       "      <td>6</td>\n",
       "      <td>149950.00</td>\n",
       "    </tr>\n",
       "    <tr>\n",
       "      <td>4</td>\n",
       "      <td>5</td>\n",
       "      <td>149922.00</td>\n",
       "    </tr>\n",
       "    <tr>\n",
       "      <td>5</td>\n",
       "      <td>5</td>\n",
       "      <td>149920.00</td>\n",
       "    </tr>\n",
       "    <tr>\n",
       "      <td>6</td>\n",
       "      <td>7</td>\n",
       "      <td>149917.00</td>\n",
       "    </tr>\n",
       "    <tr>\n",
       "      <td>7</td>\n",
       "      <td>4</td>\n",
       "      <td>149900.00</td>\n",
       "    </tr>\n",
       "    <tr>\n",
       "      <td>8</td>\n",
       "      <td>4</td>\n",
       "      <td>149900.00</td>\n",
       "    </tr>\n",
       "    <tr>\n",
       "      <td>9</td>\n",
       "      <td>4</td>\n",
       "      <td>149900.00</td>\n",
       "    </tr>\n",
       "    <tr>\n",
       "      <td>12</td>\n",
       "      <td>6</td>\n",
       "      <td>149895.00</td>\n",
       "    </tr>\n",
       "    <tr>\n",
       "      <td>14</td>\n",
       "      <td>7</td>\n",
       "      <td>149832.00</td>\n",
       "    </tr>\n",
       "    <tr>\n",
       "      <td>20</td>\n",
       "      <td>5</td>\n",
       "      <td>149796.00</td>\n",
       "    </tr>\n",
       "    <tr>\n",
       "      <td>23</td>\n",
       "      <td>7</td>\n",
       "      <td>149705.00</td>\n",
       "    </tr>\n",
       "    <tr>\n",
       "      <td>36</td>\n",
       "      <td>5</td>\n",
       "      <td>149629.00</td>\n",
       "    </tr>\n",
       "    <tr>\n",
       "      <td>46</td>\n",
       "      <td>8</td>\n",
       "      <td>149582.00</td>\n",
       "    </tr>\n",
       "    <tr>\n",
       "      <td>47</td>\n",
       "      <td>7</td>\n",
       "      <td>149582.00</td>\n",
       "    </tr>\n",
       "    <tr>\n",
       "      <td>64</td>\n",
       "      <td>8</td>\n",
       "      <td>149497.00</td>\n",
       "    </tr>\n",
       "    <tr>\n",
       "      <td>93</td>\n",
       "      <td>6</td>\n",
       "      <td>149080.96</td>\n",
       "    </tr>\n",
       "    <tr>\n",
       "      <td>96</td>\n",
       "      <td>6</td>\n",
       "      <td>149000.00</td>\n",
       "    </tr>\n",
       "    <tr>\n",
       "      <td>97</td>\n",
       "      <td>8</td>\n",
       "      <td>149000.00</td>\n",
       "    </tr>\n",
       "    <tr>\n",
       "      <td>105</td>\n",
       "      <td>6</td>\n",
       "      <td>148900.00</td>\n",
       "    </tr>\n",
       "    <tr>\n",
       "      <td>249</td>\n",
       "      <td>8</td>\n",
       "      <td>147365.05</td>\n",
       "    </tr>\n",
       "    <tr>\n",
       "      <td>580</td>\n",
       "      <td>8</td>\n",
       "      <td>143815.00</td>\n",
       "    </tr>\n",
       "    <tr>\n",
       "      <td>662</td>\n",
       "      <td>7</td>\n",
       "      <td>143013.00</td>\n",
       "    </tr>\n",
       "  </tbody>\n",
       "</table>\n",
       "</div>"
      ],
      "text/plain": [
       "     Month  LoanAmount\n",
       "0        5   149992.00\n",
       "1        4   149980.00\n",
       "2        4   149975.00\n",
       "3        6   149950.00\n",
       "4        5   149922.00\n",
       "5        5   149920.00\n",
       "6        7   149917.00\n",
       "7        4   149900.00\n",
       "8        4   149900.00\n",
       "9        4   149900.00\n",
       "12       6   149895.00\n",
       "14       7   149832.00\n",
       "20       5   149796.00\n",
       "23       7   149705.00\n",
       "36       5   149629.00\n",
       "46       8   149582.00\n",
       "47       7   149582.00\n",
       "64       8   149497.00\n",
       "93       6   149080.96\n",
       "96       6   149000.00\n",
       "97       8   149000.00\n",
       "105      6   148900.00\n",
       "249      8   147365.05\n",
       "580      8   143815.00\n",
       "662      7   143013.00"
      ]
     },
     "execution_count": 356,
     "metadata": {},
     "output_type": "execute_result"
    }
   ],
   "source": [
    "df=dx.groupby('Month')\n",
    "df.head()"
   ]
  },
  {
   "cell_type": "code",
   "execution_count": 359,
   "metadata": {},
   "outputs": [
    {
     "data": {
      "text/plain": [
       "Month  Month\n",
       "4      4        1129856\n",
       "5      5         906652\n",
       "6      6         252180\n",
       "7      7         151788\n",
       "8      8          81339\n",
       "Name: Month, dtype: int64"
      ]
     },
     "execution_count": 359,
     "metadata": {},
     "output_type": "execute_result"
    }
   ],
   "source": [
    "df['Month'].value_counts()"
   ]
  },
  {
   "cell_type": "code",
   "execution_count": 360,
   "metadata": {},
   "outputs": [
    {
     "data": {
      "text/html": [
       "<div>\n",
       "<style scoped>\n",
       "    .dataframe tbody tr th:only-of-type {\n",
       "        vertical-align: middle;\n",
       "    }\n",
       "\n",
       "    .dataframe tbody tr th {\n",
       "        vertical-align: top;\n",
       "    }\n",
       "\n",
       "    .dataframe thead th {\n",
       "        text-align: right;\n",
       "    }\n",
       "</style>\n",
       "<table border=\"1\" class=\"dataframe\">\n",
       "  <thead>\n",
       "    <tr style=\"text-align: right;\">\n",
       "      <th></th>\n",
       "      <th>Month</th>\n",
       "      <th>LoanAmount</th>\n",
       "    </tr>\n",
       "  </thead>\n",
       "  <tbody>\n",
       "    <tr>\n",
       "      <td>0</td>\n",
       "      <td>5</td>\n",
       "      <td>149992.00</td>\n",
       "    </tr>\n",
       "    <tr>\n",
       "      <td>1</td>\n",
       "      <td>4</td>\n",
       "      <td>149980.00</td>\n",
       "    </tr>\n",
       "    <tr>\n",
       "      <td>2</td>\n",
       "      <td>4</td>\n",
       "      <td>149975.00</td>\n",
       "    </tr>\n",
       "    <tr>\n",
       "      <td>3</td>\n",
       "      <td>6</td>\n",
       "      <td>149950.00</td>\n",
       "    </tr>\n",
       "    <tr>\n",
       "      <td>4</td>\n",
       "      <td>5</td>\n",
       "      <td>149922.00</td>\n",
       "    </tr>\n",
       "    <tr>\n",
       "      <td>5</td>\n",
       "      <td>5</td>\n",
       "      <td>149920.00</td>\n",
       "    </tr>\n",
       "    <tr>\n",
       "      <td>6</td>\n",
       "      <td>7</td>\n",
       "      <td>149917.00</td>\n",
       "    </tr>\n",
       "    <tr>\n",
       "      <td>7</td>\n",
       "      <td>4</td>\n",
       "      <td>149900.00</td>\n",
       "    </tr>\n",
       "    <tr>\n",
       "      <td>8</td>\n",
       "      <td>4</td>\n",
       "      <td>149900.00</td>\n",
       "    </tr>\n",
       "    <tr>\n",
       "      <td>9</td>\n",
       "      <td>4</td>\n",
       "      <td>149900.00</td>\n",
       "    </tr>\n",
       "    <tr>\n",
       "      <td>12</td>\n",
       "      <td>6</td>\n",
       "      <td>149895.00</td>\n",
       "    </tr>\n",
       "    <tr>\n",
       "      <td>14</td>\n",
       "      <td>7</td>\n",
       "      <td>149832.00</td>\n",
       "    </tr>\n",
       "    <tr>\n",
       "      <td>20</td>\n",
       "      <td>5</td>\n",
       "      <td>149796.00</td>\n",
       "    </tr>\n",
       "    <tr>\n",
       "      <td>23</td>\n",
       "      <td>7</td>\n",
       "      <td>149705.00</td>\n",
       "    </tr>\n",
       "    <tr>\n",
       "      <td>36</td>\n",
       "      <td>5</td>\n",
       "      <td>149629.00</td>\n",
       "    </tr>\n",
       "    <tr>\n",
       "      <td>46</td>\n",
       "      <td>8</td>\n",
       "      <td>149582.00</td>\n",
       "    </tr>\n",
       "    <tr>\n",
       "      <td>47</td>\n",
       "      <td>7</td>\n",
       "      <td>149582.00</td>\n",
       "    </tr>\n",
       "    <tr>\n",
       "      <td>64</td>\n",
       "      <td>8</td>\n",
       "      <td>149497.00</td>\n",
       "    </tr>\n",
       "    <tr>\n",
       "      <td>93</td>\n",
       "      <td>6</td>\n",
       "      <td>149080.96</td>\n",
       "    </tr>\n",
       "    <tr>\n",
       "      <td>96</td>\n",
       "      <td>6</td>\n",
       "      <td>149000.00</td>\n",
       "    </tr>\n",
       "    <tr>\n",
       "      <td>97</td>\n",
       "      <td>8</td>\n",
       "      <td>149000.00</td>\n",
       "    </tr>\n",
       "    <tr>\n",
       "      <td>105</td>\n",
       "      <td>6</td>\n",
       "      <td>148900.00</td>\n",
       "    </tr>\n",
       "    <tr>\n",
       "      <td>249</td>\n",
       "      <td>8</td>\n",
       "      <td>147365.05</td>\n",
       "    </tr>\n",
       "    <tr>\n",
       "      <td>580</td>\n",
       "      <td>8</td>\n",
       "      <td>143815.00</td>\n",
       "    </tr>\n",
       "    <tr>\n",
       "      <td>662</td>\n",
       "      <td>7</td>\n",
       "      <td>143013.00</td>\n",
       "    </tr>\n",
       "  </tbody>\n",
       "</table>\n",
       "</div>"
      ],
      "text/plain": [
       "     Month  LoanAmount\n",
       "0        5   149992.00\n",
       "1        4   149980.00\n",
       "2        4   149975.00\n",
       "3        6   149950.00\n",
       "4        5   149922.00\n",
       "5        5   149920.00\n",
       "6        7   149917.00\n",
       "7        4   149900.00\n",
       "8        4   149900.00\n",
       "9        4   149900.00\n",
       "12       6   149895.00\n",
       "14       7   149832.00\n",
       "20       5   149796.00\n",
       "23       7   149705.00\n",
       "36       5   149629.00\n",
       "46       8   149582.00\n",
       "47       7   149582.00\n",
       "64       8   149497.00\n",
       "93       6   149080.96\n",
       "96       6   149000.00\n",
       "97       8   149000.00\n",
       "105      6   148900.00\n",
       "249      8   147365.05\n",
       "580      8   143815.00\n",
       "662      7   143013.00"
      ]
     },
     "execution_count": 360,
     "metadata": {},
     "output_type": "execute_result"
    }
   ],
   "source": [
    "df.head()"
   ]
  },
  {
   "cell_type": "code",
   "execution_count": 365,
   "metadata": {},
   "outputs": [],
   "source": [
    "df=sba[['LoanAmount','DateApproved']]"
   ]
  },
  {
   "cell_type": "code",
   "execution_count": 366,
   "metadata": {},
   "outputs": [],
   "source": [
    "df.set_index('DateApproved',inplace=True)"
   ]
  },
  {
   "cell_type": "code",
   "execution_count": 367,
   "metadata": {},
   "outputs": [
    {
     "data": {
      "text/html": [
       "<div>\n",
       "<style scoped>\n",
       "    .dataframe tbody tr th:only-of-type {\n",
       "        vertical-align: middle;\n",
       "    }\n",
       "\n",
       "    .dataframe tbody tr th {\n",
       "        vertical-align: top;\n",
       "    }\n",
       "\n",
       "    .dataframe thead th {\n",
       "        text-align: right;\n",
       "    }\n",
       "</style>\n",
       "<table border=\"1\" class=\"dataframe\">\n",
       "  <thead>\n",
       "    <tr style=\"text-align: right;\">\n",
       "      <th></th>\n",
       "      <th>LoanAmount</th>\n",
       "    </tr>\n",
       "    <tr>\n",
       "      <th>DateApproved</th>\n",
       "      <th></th>\n",
       "    </tr>\n",
       "  </thead>\n",
       "  <tbody>\n",
       "    <tr>\n",
       "      <td>2020-05-01</td>\n",
       "      <td>149992.0</td>\n",
       "    </tr>\n",
       "    <tr>\n",
       "      <td>2020-04-29</td>\n",
       "      <td>149980.0</td>\n",
       "    </tr>\n",
       "    <tr>\n",
       "      <td>2020-04-16</td>\n",
       "      <td>149975.0</td>\n",
       "    </tr>\n",
       "    <tr>\n",
       "      <td>2020-06-13</td>\n",
       "      <td>149950.0</td>\n",
       "    </tr>\n",
       "    <tr>\n",
       "      <td>2020-05-03</td>\n",
       "      <td>149922.0</td>\n",
       "    </tr>\n",
       "  </tbody>\n",
       "</table>\n",
       "</div>"
      ],
      "text/plain": [
       "              LoanAmount\n",
       "DateApproved            \n",
       "2020-05-01      149992.0\n",
       "2020-04-29      149980.0\n",
       "2020-04-16      149975.0\n",
       "2020-06-13      149950.0\n",
       "2020-05-03      149922.0"
      ]
     },
     "execution_count": 367,
     "metadata": {},
     "output_type": "execute_result"
    }
   ],
   "source": [
    "df.head()"
   ]
  },
  {
   "cell_type": "code",
   "execution_count": 368,
   "metadata": {},
   "outputs": [
    {
     "data": {
      "text/html": [
       "<div>\n",
       "<style scoped>\n",
       "    .dataframe tbody tr th:only-of-type {\n",
       "        vertical-align: middle;\n",
       "    }\n",
       "\n",
       "    .dataframe tbody tr th {\n",
       "        vertical-align: top;\n",
       "    }\n",
       "\n",
       "    .dataframe thead th {\n",
       "        text-align: right;\n",
       "    }\n",
       "</style>\n",
       "<table border=\"1\" class=\"dataframe\">\n",
       "  <thead>\n",
       "    <tr style=\"text-align: right;\">\n",
       "      <th></th>\n",
       "      <th>LoanAmount</th>\n",
       "    </tr>\n",
       "  </thead>\n",
       "  <tbody>\n",
       "    <tr>\n",
       "      <td>count</td>\n",
       "      <td>2.521815e+06</td>\n",
       "    </tr>\n",
       "    <tr>\n",
       "      <td>mean</td>\n",
       "      <td>3.251852e+04</td>\n",
       "    </tr>\n",
       "    <tr>\n",
       "      <td>std</td>\n",
       "      <td>3.286932e+04</td>\n",
       "    </tr>\n",
       "    <tr>\n",
       "      <td>min</td>\n",
       "      <td>1.000000e-02</td>\n",
       "    </tr>\n",
       "    <tr>\n",
       "      <td>25%</td>\n",
       "      <td>9.517000e+03</td>\n",
       "    </tr>\n",
       "    <tr>\n",
       "      <td>50%</td>\n",
       "      <td>2.080000e+04</td>\n",
       "    </tr>\n",
       "    <tr>\n",
       "      <td>75%</td>\n",
       "      <td>4.376700e+04</td>\n",
       "    </tr>\n",
       "    <tr>\n",
       "      <td>max</td>\n",
       "      <td>1.499990e+05</td>\n",
       "    </tr>\n",
       "  </tbody>\n",
       "</table>\n",
       "</div>"
      ],
      "text/plain": [
       "         LoanAmount\n",
       "count  2.521815e+06\n",
       "mean   3.251852e+04\n",
       "std    3.286932e+04\n",
       "min    1.000000e-02\n",
       "25%    9.517000e+03\n",
       "50%    2.080000e+04\n",
       "75%    4.376700e+04\n",
       "max    1.499990e+05"
      ]
     },
     "execution_count": 368,
     "metadata": {},
     "output_type": "execute_result"
    }
   ],
   "source": [
    "df.describe()"
   ]
  },
  {
   "cell_type": "code",
   "execution_count": 369,
   "metadata": {},
   "outputs": [
    {
     "data": {
      "text/plain": [
       "<matplotlib.axes._subplots.AxesSubplot at 0x2649022bdc8>"
      ]
     },
     "execution_count": 369,
     "metadata": {},
     "output_type": "execute_result"
    },
    {
     "data": {
      "image/png": "[encoded data removed]",
      "text/plain": [
       "<Figure size 432x288 with 1 Axes>"
      ]
     },
     "metadata": {
      "needs_background": "light"
     },
     "output_type": "display_data"
    }
   ],
   "source": [
    "df.plot()"
   ]
  },
  {
   "cell_type": "markdown",
   "metadata": {},
   "source": [
    "In above plot data looks like seasonal data ,as every year sales goes high at a particular month\n",
    "Now we will check if data is stationary or not."
   ]
  },
  {
   "cell_type": "markdown",
   "metadata": {},
   "source": [
    "As p value is greater then .05 we are going to accept the null hypothesis-- Non Stationary\n",
    "\n",
    "Now when your data is non stationary we do the below steps."
   ]
  },
  {
   "cell_type": "code",
   "execution_count": 373,
   "metadata": {},
   "outputs": [],
   "source": [
    "df['loans First Difference'] = df['LoanAmount'] - df['LoanAmount'].shift(1)"
   ]
  },
  {
   "cell_type": "code",
   "execution_count": 374,
   "metadata": {},
   "outputs": [
    {
     "data": {
      "text/plain": [
       "DateApproved\n",
       "2020-05-01         NaN\n",
       "2020-04-29    149992.0\n",
       "2020-04-16    149980.0\n",
       "2020-06-13    149975.0\n",
       "2020-05-03    149950.0\n",
       "Name: LoanAmount, dtype: float64"
      ]
     },
     "execution_count": 374,
     "metadata": {},
     "output_type": "execute_result"
    }
   ],
   "source": [
    "df['LoanAmount'].shift(1).head() # its shift one down"
   ]
  },
  {
   "cell_type": "code",
   "execution_count": 375,
   "metadata": {},
   "outputs": [],
   "source": [
    "df['loans First Difference']=df['LoanAmount']-df['LoanAmount'].shift(12) \n",
    "#as seasonal its a 12 month data"
   ]
  },
  {
   "cell_type": "code",
   "execution_count": 376,
   "metadata": {},
   "outputs": [
    {
     "data": {
      "text/html": [
       "<div>\n",
       "<style scoped>\n",
       "    .dataframe tbody tr th:only-of-type {\n",
       "        vertical-align: middle;\n",
       "    }\n",
       "\n",
       "    .dataframe tbody tr th {\n",
       "        vertical-align: top;\n",
       "    }\n",
       "\n",
       "    .dataframe thead th {\n",
       "        text-align: right;\n",
       "    }\n",
       "</style>\n",
       "<table border=\"1\" class=\"dataframe\">\n",
       "  <thead>\n",
       "    <tr style=\"text-align: right;\">\n",
       "      <th></th>\n",
       "      <th>LoanAmount</th>\n",
       "      <th>loans First Difference</th>\n",
       "    </tr>\n",
       "    <tr>\n",
       "      <th>DateApproved</th>\n",
       "      <th></th>\n",
       "      <th></th>\n",
       "    </tr>\n",
       "  </thead>\n",
       "  <tbody>\n",
       "    <tr>\n",
       "      <td>2020-05-01</td>\n",
       "      <td>149992.0</td>\n",
       "      <td>NaN</td>\n",
       "    </tr>\n",
       "    <tr>\n",
       "      <td>2020-04-29</td>\n",
       "      <td>149980.0</td>\n",
       "      <td>NaN</td>\n",
       "    </tr>\n",
       "    <tr>\n",
       "      <td>2020-04-16</td>\n",
       "      <td>149975.0</td>\n",
       "      <td>NaN</td>\n",
       "    </tr>\n",
       "    <tr>\n",
       "      <td>2020-06-13</td>\n",
       "      <td>149950.0</td>\n",
       "      <td>NaN</td>\n",
       "    </tr>\n",
       "    <tr>\n",
       "      <td>2020-05-03</td>\n",
       "      <td>149922.0</td>\n",
       "      <td>NaN</td>\n",
       "    </tr>\n",
       "    <tr>\n",
       "      <td>2020-05-03</td>\n",
       "      <td>149920.0</td>\n",
       "      <td>NaN</td>\n",
       "    </tr>\n",
       "    <tr>\n",
       "      <td>2020-07-15</td>\n",
       "      <td>149917.0</td>\n",
       "      <td>NaN</td>\n",
       "    </tr>\n",
       "    <tr>\n",
       "      <td>2020-04-28</td>\n",
       "      <td>149900.0</td>\n",
       "      <td>NaN</td>\n",
       "    </tr>\n",
       "    <tr>\n",
       "      <td>2020-04-06</td>\n",
       "      <td>149900.0</td>\n",
       "      <td>NaN</td>\n",
       "    </tr>\n",
       "    <tr>\n",
       "      <td>2020-04-07</td>\n",
       "      <td>149900.0</td>\n",
       "      <td>NaN</td>\n",
       "    </tr>\n",
       "    <tr>\n",
       "      <td>2020-04-14</td>\n",
       "      <td>149900.0</td>\n",
       "      <td>NaN</td>\n",
       "    </tr>\n",
       "    <tr>\n",
       "      <td>2020-04-28</td>\n",
       "      <td>149900.0</td>\n",
       "      <td>NaN</td>\n",
       "    </tr>\n",
       "    <tr>\n",
       "      <td>2020-06-05</td>\n",
       "      <td>149895.0</td>\n",
       "      <td>-97.0</td>\n",
       "    </tr>\n",
       "    <tr>\n",
       "      <td>2020-04-27</td>\n",
       "      <td>149860.0</td>\n",
       "      <td>-120.0</td>\n",
       "    </tr>\n",
       "  </tbody>\n",
       "</table>\n",
       "</div>"
      ],
      "text/plain": [
       "              LoanAmount  loans First Difference\n",
       "DateApproved                                    \n",
       "2020-05-01      149992.0                     NaN\n",
       "2020-04-29      149980.0                     NaN\n",
       "2020-04-16      149975.0                     NaN\n",
       "2020-06-13      149950.0                     NaN\n",
       "2020-05-03      149922.0                     NaN\n",
       "2020-05-03      149920.0                     NaN\n",
       "2020-07-15      149917.0                     NaN\n",
       "2020-04-28      149900.0                     NaN\n",
       "2020-04-06      149900.0                     NaN\n",
       "2020-04-07      149900.0                     NaN\n",
       "2020-04-14      149900.0                     NaN\n",
       "2020-04-28      149900.0                     NaN\n",
       "2020-06-05      149895.0                   -97.0\n",
       "2020-04-27      149860.0                  -120.0"
      ]
     },
     "execution_count": 376,
     "metadata": {},
     "output_type": "execute_result"
    }
   ],
   "source": [
    "df.head(14) #when subtracted with nan we get a nan"
   ]
  },
  {
   "cell_type": "code",
   "execution_count": 378,
   "metadata": {},
   "outputs": [
    {
     "data": {
      "text/plain": [
       "<matplotlib.axes._subplots.AxesSubplot at 0x26494480a88>"
      ]
     },
     "execution_count": 378,
     "metadata": {},
     "output_type": "execute_result"
    },
    {
     "data": {
      "image/png": "[encoded data removed]",
      "text/plain": [
       "<Figure size 432x288 with 1 Axes>"
      ]
     },
     "metadata": {
      "needs_background": "light"
     },
     "output_type": "display_data"
    }
   ],
   "source": [
    "df['loans First Difference'].plot()"
   ]
  },
  {
   "cell_type": "code",
   "execution_count": null,
   "metadata": {},
   "outputs": [],
   "source": [
    "from pandas.plotting import autocorrelation_plot\n",
    "autocorrelation_plot(df['LoanAmount'])\n",
    "plt.show()"
   ]
  },
  {
   "cell_type": "code",
   "execution_count": null,
   "metadata": {},
   "outputs": [],
   "source": [
    "from statsmodels.graphics.tsaplots import plot_acf,plot_pacf\n",
    "import statsmodels.api as sm\n",
    "fig = plt.figure(figsize=(12,8))\n",
    "ax1 = fig.add_subplot(211)\n",
    "# First 12 values are null so we will start from 13\n",
    "fig = sm.graphics.tsa.plot_acf(df['loans First Difference'].iloc[13:],lags=40,ax=ax1)\n",
    "ax2 = fig.add_subplot(212)\n",
    "fig = sm.graphics.tsa.plot_pacf(df['loans First Difference'].iloc[13:],lags=40,ax=ax2)"
   ]
  },
  {
   "cell_type": "code",
   "execution_count": null,
   "metadata": {},
   "outputs": [],
   "source": [
    "# For non-seasonal data\n",
    "#p=1, d=1, q=0 or 1\n",
    "# Usually in seasonal data we avoid arima ,just showing u how to impliment\n",
    "from statsmodels.tsa.arima_model import ARIMA"
   ]
  },
  {
   "cell_type": "code",
   "execution_count": null,
   "metadata": {},
   "outputs": [],
   "source": [
    "model=ARIMA(df['LoanAmount'],order=(1,1,1)) # this order is p d q(0 or 1) \n",
    "model_fit=model.fit()"
   ]
  },
  {
   "cell_type": "code",
   "execution_count": null,
   "metadata": {},
   "outputs": [],
   "source": [
    "model_fit.summary()"
   ]
  },
  {
   "cell_type": "code",
   "execution_count": null,
   "metadata": {},
   "outputs": [],
   "source": [
    "df['forecast']=model_fit.predict(start=90,end=103,dynamic=True)\n",
    "df[['LoanAmount','forecast']].plot(figsize=(12,8))"
   ]
  },
  {
   "cell_type": "code",
   "execution_count": null,
   "metadata": {},
   "outputs": [],
   "source": []
  },
  {
   "cell_type": "code",
   "execution_count": null,
   "metadata": {},
   "outputs": [],
   "source": []
  },
  {
   "cell_type": "code",
   "execution_count": null,
   "metadata": {},
   "outputs": [],
   "source": []
  }
 ],
 "metadata": {
  "kernelspec": {
   "display_name": "Python 3",
   "language": "python",
   "name": "python3"
  },
  "language_info": {
   "codemirror_mode": {
    "name": "ipython",
    "version": 3
   },
   "file_extension": ".py",
   "mimetype": "text/x-python",
   "name": "python",
   "nbconvert_exporter": "python",
   "pygments_lexer": "ipython3",
   "version": "3.7.4"
  }
 },
 "nbformat": 4,
 "nbformat_minor": 2
}
